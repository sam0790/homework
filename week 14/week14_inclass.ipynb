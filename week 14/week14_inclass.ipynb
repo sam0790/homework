{
 "cells": [
  {
   "cell_type": "code",
   "execution_count": 7,
   "id": "optical-survivor",
   "metadata": {},
   "outputs": [
    {
     "data": {
      "text/html": [
       "<div>\n",
       "<style scoped>\n",
       "    .dataframe tbody tr th:only-of-type {\n",
       "        vertical-align: middle;\n",
       "    }\n",
       "\n",
       "    .dataframe tbody tr th {\n",
       "        vertical-align: top;\n",
       "    }\n",
       "\n",
       "    .dataframe thead th {\n",
       "        text-align: right;\n",
       "    }\n",
       "</style>\n",
       "<table border=\"1\" class=\"dataframe\">\n",
       "  <thead>\n",
       "    <tr style=\"text-align: right;\">\n",
       "      <th></th>\n",
       "      <th>X1</th>\n",
       "      <th>X2</th>\n",
       "      <th>X3</th>\n",
       "      <th>X4</th>\n",
       "      <th>X5</th>\n",
       "      <th>X6</th>\n",
       "      <th>X7</th>\n",
       "    </tr>\n",
       "  </thead>\n",
       "  <tbody>\n",
       "    <tr>\n",
       "      <th>0</th>\n",
       "      <td>478</td>\n",
       "      <td>184</td>\n",
       "      <td>40</td>\n",
       "      <td>74</td>\n",
       "      <td>11</td>\n",
       "      <td>31</td>\n",
       "      <td>20</td>\n",
       "    </tr>\n",
       "    <tr>\n",
       "      <th>1</th>\n",
       "      <td>494</td>\n",
       "      <td>213</td>\n",
       "      <td>32</td>\n",
       "      <td>72</td>\n",
       "      <td>11</td>\n",
       "      <td>43</td>\n",
       "      <td>18</td>\n",
       "    </tr>\n",
       "    <tr>\n",
       "      <th>2</th>\n",
       "      <td>643</td>\n",
       "      <td>347</td>\n",
       "      <td>57</td>\n",
       "      <td>70</td>\n",
       "      <td>18</td>\n",
       "      <td>16</td>\n",
       "      <td>16</td>\n",
       "    </tr>\n",
       "    <tr>\n",
       "      <th>3</th>\n",
       "      <td>341</td>\n",
       "      <td>565</td>\n",
       "      <td>31</td>\n",
       "      <td>71</td>\n",
       "      <td>11</td>\n",
       "      <td>25</td>\n",
       "      <td>19</td>\n",
       "    </tr>\n",
       "    <tr>\n",
       "      <th>4</th>\n",
       "      <td>773</td>\n",
       "      <td>327</td>\n",
       "      <td>67</td>\n",
       "      <td>72</td>\n",
       "      <td>9</td>\n",
       "      <td>29</td>\n",
       "      <td>24</td>\n",
       "    </tr>\n",
       "  </tbody>\n",
       "</table>\n",
       "</div>"
      ],
      "text/plain": [
       "    X1   X2  X3  X4  X5  X6  X7\n",
       "0  478  184  40  74  11  31  20\n",
       "1  494  213  32  72  11  43  18\n",
       "2  643  347  57  70  18  16  16\n",
       "3  341  565  31  71  11  25  19\n",
       "4  773  327  67  72   9  29  24"
      ]
     },
     "execution_count": 7,
     "metadata": {},
     "output_type": "execute_result"
    }
   ],
   "source": [
    "import numpy as np\n",
    "import pandas as pd\n",
    "from sklearn.feature_selection import RFE\n",
    "\n",
    "from sklearn.svm import SVC\n",
    "\n",
    "crime_df = pd.read_csv('crime_data.csv')\n",
    "crime_df.head()"
   ]
  },
  {
   "cell_type": "markdown",
   "id": "loving-arnold",
   "metadata": {},
   "source": [
    "### 1. Using the documentation for Recursive Feature Selection, apply this process to the\n",
    "crime dataset to create the best model\n",
    "https://scikit-learn.org/stable/modules/generated/sklearn.feature_selection.RFE.html .\n",
    "Since this dataset is so small, you do not need to perform a train-test split. You can\n",
    "select what you’re trying to predict. Be sure to explain what RFE is in the markdown.\n"
   ]
  },
  {
   "cell_type": "code",
   "execution_count": 11,
   "id": "daily-handling",
   "metadata": {},
   "outputs": [
    {
     "name": "stdout",
     "output_type": "stream",
     "text": [
      "[ True False  True False  True False]\n",
      "[1 2 1 3 1 4]\n"
     ]
    }
   ],
   "source": [
    "X = crime_df.drop('X1',axis=1)\n",
    "y = crime_df['X1']\n",
    "\n",
    "svc = SVC(kernel=\"linear\", C=1)\n",
    "rfe = RFE(estimator=svc, n_features_to_select=3, step=1)\n",
    "rfe_ = rfe.fit(X, y)\n",
    "\n",
    "print(rfe_.support_)\n",
    "print(rfe.ranking_)\n"
   ]
  },
  {
   "cell_type": "markdown",
   "id": "closed-hammer",
   "metadata": {},
   "source": [
    "### 2. Create a function called digital_root that takes in an integer. Digital root is the recursive\n",
    "sum of all the digits in a number.\n",
    "Given n, take the sum of the digits of n. If that value has more than one digit, continue\n",
    "reducing in this way until a single-digit number is produced. The input will be a\n",
    "non-negative integer.\n",
    "\n",
    "Examples:\n",
    "16 --> 1 + 6 = 7\n",
    "942 --> 9 + 4 + 2 = 15 --> 1 + 5 = 6\n",
    "132189 --> 1 + 3 + 2 + 1 + 8 + 9 = 24 --> 2 + 4 = 6\n",
    "493193 --> 4 + 9 + 3 + 1 + 9 + 3 = 29 --> 2 + 9 = 1"
   ]
  },
  {
   "cell_type": "code",
   "execution_count": 20,
   "id": "collective-siemens",
   "metadata": {},
   "outputs": [
    {
     "name": "stdout",
     "output_type": "stream",
     "text": [
      "7\n",
      "6\n",
      "6\n",
      "2\n"
     ]
    }
   ],
   "source": [
    "def digital_root(n):\n",
    "    \n",
    "    if len(str(n)) == 1:\n",
    "        return n\n",
    "    else:\n",
    "        sum = 0\n",
    "        for char in str(n):\n",
    "            sum += int(char)\n",
    "    return digital_root(sum)\n",
    "\n",
    "print(digital_root(16)) \n",
    "print(digital_root(942)) \n",
    "print(digital_root(132189)) \n",
    "print(digital_root(493193)) "
   ]
  },
  {
   "cell_type": "code",
   "execution_count": null,
   "id": "amber-brisbane",
   "metadata": {},
   "outputs": [],
   "source": []
  }
 ],
 "metadata": {
  "kernelspec": {
   "display_name": "Python 3",
   "language": "python",
   "name": "python3"
  },
  "language_info": {
   "codemirror_mode": {
    "name": "ipython",
    "version": 3
   },
   "file_extension": ".py",
   "mimetype": "text/x-python",
   "name": "python",
   "nbconvert_exporter": "python",
   "pygments_lexer": "ipython3",
   "version": "3.8.8"
  }
 },
 "nbformat": 4,
 "nbformat_minor": 5
}
