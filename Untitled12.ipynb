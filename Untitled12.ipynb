{
 "cells": [
  {
   "cell_type": "code",
   "execution_count": 6,
   "id": "floppy-stockholm",
   "metadata": {},
   "outputs": [],
   "source": [
    "def dup(list):\n",
    "    new_list = []\n",
    "    \n",
    "    \n",
    "    for i in list:\n",
    "        if i not in new_list:\n",
    "            new_list.append(i)\n",
    "        else:\n",
    "            continue\n",
    "            \n",
    "    return new_list"
   ]
  },
  {
   "cell_type": "code",
   "execution_count": 7,
   "id": "frank-preservation",
   "metadata": {},
   "outputs": [
    {
     "data": {
      "text/plain": [
       "[1, 3, 2, 5, 4]"
      ]
     },
     "execution_count": 7,
     "metadata": {},
     "output_type": "execute_result"
    }
   ],
   "source": [
    "dup([1,3,1,2,5,4,3,2])"
   ]
  },
  {
   "cell_type": "code",
   "execution_count": null,
   "id": "athletic-failing",
   "metadata": {},
   "outputs": [],
   "source": [
    "Problem 1: Index of Highest Value\n",
    "Given an array (or list) of integers, you need to find and return the index of the highest value in the array.\n",
    "\n",
    "Example:\n",
    "\n",
    "indexOfHighest([-1, 0, 5, 1, 5, 3, 4, 3]) => 2\n",
    "\n",
    "Extra information about the array:\n",
    "The array will always have at least one value, and will only ever contain integers.\n"
   ]
  },
  {
   "cell_type": "code",
   "execution_count": 37,
   "id": "enabling-opinion",
   "metadata": {},
   "outputs": [],
   "source": [
    "def high_num(list):\n",
    "    high = 0\n",
    "    \n",
    "    high = list.index(max(list))\n",
    "    \n",
    "    return high\n",
    "    \n",
    "    "
   ]
  },
  {
   "cell_type": "code",
   "execution_count": 39,
   "id": "decimal-lancaster",
   "metadata": {},
   "outputs": [
    {
     "data": {
      "text/plain": [
       "2"
      ]
     },
     "execution_count": 39,
     "metadata": {},
     "output_type": "execute_result"
    }
   ],
   "source": [
    "list_1 = [-1, 0, 8, 1, 6, 3, 4, 3]\n",
    "\n",
    "\n",
    "high_num(list_1)"
   ]
  },
  {
   "cell_type": "code",
   "execution_count": null,
   "id": "opening-comedy",
   "metadata": {},
   "outputs": [],
   "source": []
  },
  {
   "cell_type": "code",
   "execution_count": null,
   "id": "legislative-buffer",
   "metadata": {},
   "outputs": [],
   "source": []
  }
 ],
 "metadata": {
  "kernelspec": {
   "display_name": "Python 3",
   "language": "python",
   "name": "python3"
  },
  "language_info": {
   "codemirror_mode": {
    "name": "ipython",
    "version": 3
   },
   "file_extension": ".py",
   "mimetype": "text/x-python",
   "name": "python",
   "nbconvert_exporter": "python",
   "pygments_lexer": "ipython3",
   "version": "3.8.8"
  }
 },
 "nbformat": 4,
 "nbformat_minor": 5
}
