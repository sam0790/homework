{
 "cells": [
  {
   "cell_type": "code",
   "execution_count": 7,
   "id": "external-george",
   "metadata": {},
   "outputs": [
    {
     "data": {
      "text/plain": [
       "[9, 8, 7, 6, 5, 4, 3, 2, 1, 0]"
      ]
     },
     "execution_count": 7,
     "metadata": {},
     "output_type": "execute_result"
    }
   ],
   "source": [
    "def rev(x):\n",
    "    \n",
    "    x.reverse()\n",
    "    return x\n",
    "    \n",
    "a = [0,1,2,3,4,5,6,7,8,9]\n",
    "\n",
    "rev(a)"
   ]
  },
  {
   "cell_type": "code",
   "execution_count": 11,
   "id": "welcome-tackle",
   "metadata": {},
   "outputs": [
    {
     "name": "stdout",
     "output_type": "stream",
     "text": [
      "[4.5, 4.0, 3.5, 3.0, 2.5, 2.0, 1.5, 1.0, 0.5, 0.0]\n"
     ]
    }
   ],
   "source": [
    "list_comp = [i/2 for i in a]\n",
    "\n",
    "print(list_comp)"
   ]
  },
  {
   "cell_type": "code",
   "execution_count": 13,
   "id": "cloudy-transparency",
   "metadata": {},
   "outputs": [],
   "source": [
    "import numpy as np"
   ]
  },
  {
   "cell_type": "code",
   "execution_count": 14,
   "id": "tracked-tours",
   "metadata": {},
   "outputs": [
    {
     "data": {
      "text/plain": [
       "-1"
      ]
     },
     "execution_count": 14,
     "metadata": {},
     "output_type": "execute_result"
    }
   ],
   "source": [
    "north = np.array([0,1])\n",
    "south = np.array([0,-1])\n",
    "\n",
    "import numpy as np\n",
    "np.dot(north,south)"
   ]
  },
  {
   "cell_type": "code",
   "execution_count": 21,
   "id": "three-sterling",
   "metadata": {},
   "outputs": [
    {
     "data": {
      "text/plain": [
       "array([[-1,  0,  0],\n",
       "       [ 0,  1,  0],\n",
       "       [ 0,  0,  1]])"
      ]
     },
     "execution_count": 21,
     "metadata": {},
     "output_type": "execute_result"
    }
   ],
   "source": [
    "A = np.array([[-1,0,0],\n",
    "    [0,1,0],\n",
    "    [0,0,1]])\n",
    "\n",
    "A"
   ]
  },
  {
   "cell_type": "code",
   "execution_count": 22,
   "id": "amazing-appendix",
   "metadata": {},
   "outputs": [
    {
     "data": {
      "text/plain": [
       "array([[1, 0, 0],\n",
       "       [0, 1, 0],\n",
       "       [0, 0, 1]])"
      ]
     },
     "execution_count": 22,
     "metadata": {},
     "output_type": "execute_result"
    }
   ],
   "source": [
    "np.dot(A,A.T)"
   ]
  },
  {
   "cell_type": "code",
   "execution_count": null,
   "id": "olive-referral",
   "metadata": {},
   "outputs": [],
   "source": []
  }
 ],
 "metadata": {
  "kernelspec": {
   "display_name": "Python 3",
   "language": "python",
   "name": "python3"
  },
  "language_info": {
   "codemirror_mode": {
    "name": "ipython",
    "version": 3
   },
   "file_extension": ".py",
   "mimetype": "text/x-python",
   "name": "python",
   "nbconvert_exporter": "python",
   "pygments_lexer": "ipython3",
   "version": "3.8.8"
  }
 },
 "nbformat": 4,
 "nbformat_minor": 5
}
