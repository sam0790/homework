{
 "cells": [
  {
   "cell_type": "markdown",
   "id": "beneficial-decade",
   "metadata": {},
   "source": [
    "### 1.\tCreate a basic API in Azure (as we did in class) that tells you how to access the different endpoints when you go to the home page. You should have the following endpoints:\n",
    "a.\tA /all endpoint that displays all of the nobel.json data\n",
    "\n",
    "b.\tA /<year> GET endpoint that allows for you to pass in any year and shows you the Nobel prizes from that year\n",
    "\n",
    "c.\tA /<year> POST endpoint that lets you add additional data\n",
    "        i.\tYou can use a form or pass the data in to the API url\n",
    "        ii.\tMake sure you see your updates when you go to /all\n"
   ]
  },
  {
   "cell_type": "code",
   "execution_count": null,
   "id": "automatic-reliance",
   "metadata": {},
   "outputs": [],
   "source": []
  },
  {
   "cell_type": "markdown",
   "id": "sudden-clock",
   "metadata": {},
   "source": [
    "### 2.\tWhat kind of API did you build? What types of APIs are there? Why are APIs important?"
   ]
  },
  {
   "cell_type": "code",
   "execution_count": null,
   "id": "polished-sheet",
   "metadata": {},
   "outputs": [],
   "source": []
  },
  {
   "cell_type": "code",
   "execution_count": null,
   "id": "raising-noise",
   "metadata": {},
   "outputs": [],
   "source": []
  },
  {
   "cell_type": "code",
   "execution_count": null,
   "id": "pharmaceutical-exhaust",
   "metadata": {},
   "outputs": [],
   "source": []
  }
 ],
 "metadata": {
  "kernelspec": {
   "display_name": "Python 3",
   "language": "python",
   "name": "python3"
  },
  "language_info": {
   "codemirror_mode": {
    "name": "ipython",
    "version": 3
   },
   "file_extension": ".py",
   "mimetype": "text/x-python",
   "name": "python",
   "nbconvert_exporter": "python",
   "pygments_lexer": "ipython3",
   "version": "3.8.8"
  }
 },
 "nbformat": 4,
 "nbformat_minor": 5
}
