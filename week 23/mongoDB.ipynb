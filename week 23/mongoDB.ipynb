{
 "cells": [
  {
   "cell_type": "markdown",
   "id": "sharing-military",
   "metadata": {},
   "source": [
    "### CRUD in PyMongo"
   ]
  },
  {
   "cell_type": "code",
   "execution_count": 3,
   "id": "spread-water",
   "metadata": {},
   "outputs": [],
   "source": [
    "import pymongo\n",
    "import datetime"
   ]
  },
  {
   "cell_type": "code",
   "execution_count": 4,
   "id": "contemporary-reducing",
   "metadata": {},
   "outputs": [],
   "source": [
    "#connect to mongodb on default port, which is 27017\n",
    "conn='mongodb://localhost:27017'\n",
    "client=pymongo.MongoClient(conn)\n",
    "\n",
    "#create a database\n",
    "db = client.shows_db\n",
    "\n",
    "#create a collection in the db\n",
    "tv_shows = db.tv_shows"
   ]
  },
  {
   "cell_type": "code",
   "execution_count": 5,
   "id": "conservative-century",
   "metadata": {},
   "outputs": [
    {
     "data": {
      "text/plain": [
       "<pymongo.results.InsertOneResult at 0x26f3867f5c0>"
      ]
     },
     "execution_count": 5,
     "metadata": {},
     "output_type": "execute_result"
    }
   ],
   "source": [
    "#CREATE\n",
    "#dictionary that represents the document\n",
    "post_data = {'name':'Ted Lasso',\n",
    "             'seasons':2,\n",
    "             'duration':'30 mins',\n",
    "             'year':2020,\n",
    "             'date_added':datetime.datetime.utcnow()\n",
    "            }\n",
    "tv_shows.insert_one(post_data)"
   ]
  },
  {
   "cell_type": "code",
   "execution_count": 7,
   "id": "labeled-wisconsin",
   "metadata": {},
   "outputs": [
    {
     "data": {
      "text/plain": [
       "<pymongo.results.DeleteResult at 0x26f3865c380>"
      ]
     },
     "execution_count": 7,
     "metadata": {},
     "output_type": "execute_result"
    }
   ],
   "source": [
    "#DELETE\n",
    "tv_shows.delete_one({'name':'Ted Lasso'})"
   ]
  },
  {
   "cell_type": "code",
   "execution_count": 12,
   "id": "driving-demonstration",
   "metadata": {},
   "outputs": [],
   "source": [
    "\n",
    "#READ\n",
    "results = tv_shows.find()\n",
    "for result in results:\n",
    "    print(result)"
   ]
  },
  {
   "cell_type": "code",
   "execution_count": 13,
   "id": "applicable-tumor",
   "metadata": {},
   "outputs": [
    {
     "name": "stdout",
     "output_type": "stream",
     "text": [
      "What is the show name? Deamon Slayer\n",
      "Number of Seasons: 2\n",
      "How long is each show? an hour\n",
      "What year did the show start? 2019\n"
     ]
    },
    {
     "data": {
      "text/plain": [
       "<pymongo.results.InsertOneResult at 0x26f38ac6d00>"
      ]
     },
     "execution_count": 13,
     "metadata": {},
     "output_type": "execute_result"
    }
   ],
   "source": [
    "\n",
    "#creating with input variables\n",
    "show_name = input('What is the show name? ')\n",
    "seasons = input('Number of Seasons: ')\n",
    "duration = input('How long is each show? ')\n",
    "year = input('What year did the show start? ')\n",
    "\n",
    "post_data = {'name':show_name,\n",
    "             'seasons':seasons,\n",
    "             'duration':duration,\n",
    "             'year':year,\n",
    "             'date_added':datetime.datetime.utcnow()\n",
    "            }\n",
    "tv_shows.insert_one(post_data)"
   ]
  },
  {
   "cell_type": "code",
   "execution_count": 14,
   "id": "impressed-butter",
   "metadata": {},
   "outputs": [
    {
     "name": "stdout",
     "output_type": "stream",
     "text": [
      "{'_id': ObjectId('610b2952576a7634f81dd1cf'), 'name': 'Deamon Slayer', 'seasons': '2', 'duration': 'an hour', 'year': '2019', 'date_added': datetime.datetime(2021, 8, 4, 23, 57, 6, 826000)}\n"
     ]
    }
   ],
   "source": [
    "results = tv_shows.find()\n",
    "for result in results:\n",
    "    print(result)"
   ]
  },
  {
   "cell_type": "code",
   "execution_count": null,
   "id": "organized-baptist",
   "metadata": {},
   "outputs": [],
   "source": []
  },
  {
   "cell_type": "code",
   "execution_count": null,
   "id": "electrical-constitutional",
   "metadata": {},
   "outputs": [],
   "source": []
  },
  {
   "cell_type": "code",
   "execution_count": null,
   "id": "neutral-asset",
   "metadata": {},
   "outputs": [],
   "source": []
  }
 ],
 "metadata": {
  "kernelspec": {
   "display_name": "Python 3",
   "language": "python",
   "name": "python3"
  },
  "language_info": {
   "codemirror_mode": {
    "name": "ipython",
    "version": 3
   },
   "file_extension": ".py",
   "mimetype": "text/x-python",
   "name": "python",
   "nbconvert_exporter": "python",
   "pygments_lexer": "ipython3",
   "version": "3.8.8"
  }
 },
 "nbformat": 4,
 "nbformat_minor": 5
}
