{
 "cells": [
  {
   "cell_type": "markdown",
   "id": "likely-intelligence",
   "metadata": {},
   "source": [
    "### Linear correlation evaluates the linear relationship between two continuous variables.  whereas rank correlation measures an ordinal association—the relationship between rankings of different ordinal variables or different rankings of the same variable, where a \"ranking\" is the assignment of the ordering labels \"first\", \"second\", \"third\", etc. to different observations of a particular variable."
   ]
  },
  {
   "cell_type": "code",
   "execution_count": 5,
   "id": "found-variety",
   "metadata": {},
   "outputs": [
    {
     "data": {
      "text/html": [
       "<div>\n",
       "<style scoped>\n",
       "    .dataframe tbody tr th:only-of-type {\n",
       "        vertical-align: middle;\n",
       "    }\n",
       "\n",
       "    .dataframe tbody tr th {\n",
       "        vertical-align: top;\n",
       "    }\n",
       "\n",
       "    .dataframe thead th {\n",
       "        text-align: right;\n",
       "    }\n",
       "</style>\n",
       "<table border=\"1\" class=\"dataframe\">\n",
       "  <thead>\n",
       "    <tr style=\"text-align: right;\">\n",
       "      <th></th>\n",
       "      <th>id</th>\n",
       "      <th>name</th>\n",
       "      <th>host_id</th>\n",
       "      <th>host_name</th>\n",
       "      <th>neighbourhood_group</th>\n",
       "      <th>neighbourhood</th>\n",
       "      <th>latitude</th>\n",
       "      <th>longitude</th>\n",
       "      <th>room_type</th>\n",
       "      <th>price</th>\n",
       "      <th>minimum_nights</th>\n",
       "      <th>number_of_reviews</th>\n",
       "      <th>last_review</th>\n",
       "      <th>reviews_per_month</th>\n",
       "      <th>calculated_host_listings_count</th>\n",
       "      <th>availability_365</th>\n",
       "    </tr>\n",
       "  </thead>\n",
       "  <tbody>\n",
       "    <tr>\n",
       "      <th>0</th>\n",
       "      <td>36666</td>\n",
       "      <td>Mo's Cozy Casa w/ veranda &amp; access to dock</td>\n",
       "      <td>157752</td>\n",
       "      <td>Monique</td>\n",
       "      <td>Belize</td>\n",
       "      <td>Belize Islands</td>\n",
       "      <td>17.747860</td>\n",
       "      <td>-88.023980</td>\n",
       "      <td>Entire home/apt</td>\n",
       "      <td>141</td>\n",
       "      <td>3</td>\n",
       "      <td>250</td>\n",
       "      <td>2/23/2021</td>\n",
       "      <td>2.00</td>\n",
       "      <td>5</td>\n",
       "      <td>225</td>\n",
       "    </tr>\n",
       "    <tr>\n",
       "      <th>1</th>\n",
       "      <td>36690</td>\n",
       "      <td>Mo's Cozy Cabana w/ comfy veranda &amp; access to ...</td>\n",
       "      <td>157752</td>\n",
       "      <td>Monique</td>\n",
       "      <td>Belize</td>\n",
       "      <td>Belize Islands</td>\n",
       "      <td>17.748320</td>\n",
       "      <td>-88.024740</td>\n",
       "      <td>Entire home/apt</td>\n",
       "      <td>71</td>\n",
       "      <td>3</td>\n",
       "      <td>316</td>\n",
       "      <td>2/19/2021</td>\n",
       "      <td>2.46</td>\n",
       "      <td>5</td>\n",
       "      <td>164</td>\n",
       "    </tr>\n",
       "    <tr>\n",
       "      <th>2</th>\n",
       "      <td>108932</td>\n",
       "      <td>Purple House eco solar  w/ ocean &amp; wildlife views</td>\n",
       "      <td>563377</td>\n",
       "      <td>Michael</td>\n",
       "      <td>Belize</td>\n",
       "      <td>Belize Islands</td>\n",
       "      <td>17.732210</td>\n",
       "      <td>-88.038240</td>\n",
       "      <td>Entire home/apt</td>\n",
       "      <td>191</td>\n",
       "      <td>2</td>\n",
       "      <td>30</td>\n",
       "      <td>3/14/2020</td>\n",
       "      <td>0.78</td>\n",
       "      <td>1</td>\n",
       "      <td>364</td>\n",
       "    </tr>\n",
       "    <tr>\n",
       "      <th>3</th>\n",
       "      <td>110483</td>\n",
       "      <td>Michelo's fuchsia suite</td>\n",
       "      <td>567809</td>\n",
       "      <td>Michel</td>\n",
       "      <td>Stann Creek</td>\n",
       "      <td>Stann Creek Mainland</td>\n",
       "      <td>16.521140</td>\n",
       "      <td>-88.369260</td>\n",
       "      <td>Hotel room</td>\n",
       "      <td>121</td>\n",
       "      <td>1</td>\n",
       "      <td>27</td>\n",
       "      <td>2/24/2020</td>\n",
       "      <td>0.29</td>\n",
       "      <td>3</td>\n",
       "      <td>331</td>\n",
       "    </tr>\n",
       "    <tr>\n",
       "      <th>4</th>\n",
       "      <td>120115</td>\n",
       "      <td>Seaside Villas Second Floor Unit  #4</td>\n",
       "      <td>604999</td>\n",
       "      <td>Bobbi</td>\n",
       "      <td>Belize</td>\n",
       "      <td>Belize Islands</td>\n",
       "      <td>17.741660</td>\n",
       "      <td>-88.023950</td>\n",
       "      <td>Entire home/apt</td>\n",
       "      <td>343</td>\n",
       "      <td>1</td>\n",
       "      <td>30</td>\n",
       "      <td>3/18/2020</td>\n",
       "      <td>0.64</td>\n",
       "      <td>22</td>\n",
       "      <td>203</td>\n",
       "    </tr>\n",
       "    <tr>\n",
       "      <th>...</th>\n",
       "      <td>...</td>\n",
       "      <td>...</td>\n",
       "      <td>...</td>\n",
       "      <td>...</td>\n",
       "      <td>...</td>\n",
       "      <td>...</td>\n",
       "      <td>...</td>\n",
       "      <td>...</td>\n",
       "      <td>...</td>\n",
       "      <td>...</td>\n",
       "      <td>...</td>\n",
       "      <td>...</td>\n",
       "      <td>...</td>\n",
       "      <td>...</td>\n",
       "      <td>...</td>\n",
       "      <td>...</td>\n",
       "    </tr>\n",
       "    <tr>\n",
       "      <th>2791</th>\n",
       "      <td>48283996</td>\n",
       "      <td>Magical Island</td>\n",
       "      <td>17994012</td>\n",
       "      <td>Ronald</td>\n",
       "      <td>Belize</td>\n",
       "      <td>Belize Islands</td>\n",
       "      <td>17.945690</td>\n",
       "      <td>-87.944620</td>\n",
       "      <td>Entire home/apt</td>\n",
       "      <td>1054</td>\n",
       "      <td>3</td>\n",
       "      <td>0</td>\n",
       "      <td>NaN</td>\n",
       "      <td>NaN</td>\n",
       "      <td>2</td>\n",
       "      <td>347</td>\n",
       "    </tr>\n",
       "    <tr>\n",
       "      <th>2792</th>\n",
       "      <td>48287613</td>\n",
       "      <td>The Luxury Suite - Corozal, Bz- 3Bdr/2bthr CASA1</td>\n",
       "      <td>375769845</td>\n",
       "      <td>Michael</td>\n",
       "      <td>Corozal</td>\n",
       "      <td>Corozal</td>\n",
       "      <td>18.374630</td>\n",
       "      <td>-88.400190</td>\n",
       "      <td>Entire home/apt</td>\n",
       "      <td>401</td>\n",
       "      <td>3</td>\n",
       "      <td>0</td>\n",
       "      <td>NaN</td>\n",
       "      <td>NaN</td>\n",
       "      <td>2</td>\n",
       "      <td>302</td>\n",
       "    </tr>\n",
       "    <tr>\n",
       "      <th>2793</th>\n",
       "      <td>48296096</td>\n",
       "      <td>Lagoon front apartment w/shared pool -  two mi...</td>\n",
       "      <td>76414486</td>\n",
       "      <td>Vacasa Belize</td>\n",
       "      <td>Belize</td>\n",
       "      <td>Belize Islands</td>\n",
       "      <td>17.934580</td>\n",
       "      <td>-87.955220</td>\n",
       "      <td>Entire home/apt</td>\n",
       "      <td>252</td>\n",
       "      <td>1</td>\n",
       "      <td>0</td>\n",
       "      <td>NaN</td>\n",
       "      <td>NaN</td>\n",
       "      <td>204</td>\n",
       "      <td>364</td>\n",
       "    </tr>\n",
       "    <tr>\n",
       "      <th>2794</th>\n",
       "      <td>48296978</td>\n",
       "      <td>Beachfront Poolside Condo</td>\n",
       "      <td>15308338</td>\n",
       "      <td>Alexandra</td>\n",
       "      <td>Belize</td>\n",
       "      <td>Belize Islands</td>\n",
       "      <td>17.930010</td>\n",
       "      <td>-87.957120</td>\n",
       "      <td>Entire home/apt</td>\n",
       "      <td>242</td>\n",
       "      <td>3</td>\n",
       "      <td>0</td>\n",
       "      <td>NaN</td>\n",
       "      <td>NaN</td>\n",
       "      <td>4</td>\n",
       "      <td>364</td>\n",
       "    </tr>\n",
       "    <tr>\n",
       "      <th>2795</th>\n",
       "      <td>48332221</td>\n",
       "      <td>Standard Room - San Ignacio Resort Hotel</td>\n",
       "      <td>60399527</td>\n",
       "      <td>San Ignacio</td>\n",
       "      <td>Cayo</td>\n",
       "      <td>Cayo</td>\n",
       "      <td>17.154127</td>\n",
       "      <td>-89.069689</td>\n",
       "      <td>Private room</td>\n",
       "      <td>226</td>\n",
       "      <td>1</td>\n",
       "      <td>0</td>\n",
       "      <td>NaN</td>\n",
       "      <td>NaN</td>\n",
       "      <td>5</td>\n",
       "      <td>365</td>\n",
       "    </tr>\n",
       "  </tbody>\n",
       "</table>\n",
       "<p>2796 rows × 16 columns</p>\n",
       "</div>"
      ],
      "text/plain": [
       "            id                                               name    host_id  \\\n",
       "0        36666         Mo's Cozy Casa w/ veranda & access to dock     157752   \n",
       "1        36690  Mo's Cozy Cabana w/ comfy veranda & access to ...     157752   \n",
       "2       108932  Purple House eco solar  w/ ocean & wildlife views     563377   \n",
       "3       110483                            Michelo's fuchsia suite     567809   \n",
       "4       120115               Seaside Villas Second Floor Unit  #4     604999   \n",
       "...        ...                                                ...        ...   \n",
       "2791  48283996                                     Magical Island   17994012   \n",
       "2792  48287613   The Luxury Suite - Corozal, Bz- 3Bdr/2bthr CASA1  375769845   \n",
       "2793  48296096  Lagoon front apartment w/shared pool -  two mi...   76414486   \n",
       "2794  48296978                          Beachfront Poolside Condo   15308338   \n",
       "2795  48332221           Standard Room - San Ignacio Resort Hotel   60399527   \n",
       "\n",
       "          host_name neighbourhood_group         neighbourhood   latitude  \\\n",
       "0           Monique              Belize        Belize Islands  17.747860   \n",
       "1           Monique              Belize        Belize Islands  17.748320   \n",
       "2           Michael              Belize        Belize Islands  17.732210   \n",
       "3            Michel         Stann Creek  Stann Creek Mainland  16.521140   \n",
       "4             Bobbi              Belize        Belize Islands  17.741660   \n",
       "...             ...                 ...                   ...        ...   \n",
       "2791         Ronald              Belize        Belize Islands  17.945690   \n",
       "2792        Michael             Corozal               Corozal  18.374630   \n",
       "2793  Vacasa Belize              Belize        Belize Islands  17.934580   \n",
       "2794      Alexandra              Belize        Belize Islands  17.930010   \n",
       "2795    San Ignacio                Cayo                  Cayo  17.154127   \n",
       "\n",
       "      longitude        room_type  price  minimum_nights  number_of_reviews  \\\n",
       "0    -88.023980  Entire home/apt    141               3                250   \n",
       "1    -88.024740  Entire home/apt     71               3                316   \n",
       "2    -88.038240  Entire home/apt    191               2                 30   \n",
       "3    -88.369260       Hotel room    121               1                 27   \n",
       "4    -88.023950  Entire home/apt    343               1                 30   \n",
       "...         ...              ...    ...             ...                ...   \n",
       "2791 -87.944620  Entire home/apt   1054               3                  0   \n",
       "2792 -88.400190  Entire home/apt    401               3                  0   \n",
       "2793 -87.955220  Entire home/apt    252               1                  0   \n",
       "2794 -87.957120  Entire home/apt    242               3                  0   \n",
       "2795 -89.069689     Private room    226               1                  0   \n",
       "\n",
       "     last_review  reviews_per_month  calculated_host_listings_count  \\\n",
       "0      2/23/2021               2.00                               5   \n",
       "1      2/19/2021               2.46                               5   \n",
       "2      3/14/2020               0.78                               1   \n",
       "3      2/24/2020               0.29                               3   \n",
       "4      3/18/2020               0.64                              22   \n",
       "...          ...                ...                             ...   \n",
       "2791         NaN                NaN                               2   \n",
       "2792         NaN                NaN                               2   \n",
       "2793         NaN                NaN                             204   \n",
       "2794         NaN                NaN                               4   \n",
       "2795         NaN                NaN                               5   \n",
       "\n",
       "      availability_365  \n",
       "0                  225  \n",
       "1                  164  \n",
       "2                  364  \n",
       "3                  331  \n",
       "4                  203  \n",
       "...                ...  \n",
       "2791               347  \n",
       "2792               302  \n",
       "2793               364  \n",
       "2794               364  \n",
       "2795               365  \n",
       "\n",
       "[2796 rows x 16 columns]"
      ]
     },
     "execution_count": 5,
     "metadata": {},
     "output_type": "execute_result"
    }
   ],
   "source": [
    "import pandas as pd\n",
    "import numpy as np\n",
    "import matplotlib.pyplot as plt\n",
    "import scipy.stats\n",
    "\n",
    "belize = pd.read_csv(\"belize_airbnb_listings.csv\")\n",
    "\n",
    "belize_df = pd.DataFrame(belize)\n",
    "belize_df\n"
   ]
  },
  {
   "cell_type": "code",
   "execution_count": 6,
   "id": "smart-hazard",
   "metadata": {},
   "outputs": [
    {
     "data": {
      "image/png": "[encoded data removed]",
      "text/plain": [
       "<Figure size 432x288 with 1 Axes>"
      ]
     },
     "metadata": {
      "needs_background": "light"
     },
     "output_type": "display_data"
    }
   ],
   "source": [
    "fig, ax = plt.subplots()\n",
    "\n",
    "ax.grid()\n",
    "ax.scatter(belize_df['calculated_host_listings_count'],belize_df['availability_365'],edgecolors='black')\n",
    "ax.set_xlabel(\"Host listings count\")\n",
    "ax.set_ylabel(\"Availability 365\")\n",
    "ax.set_title(\"Count Vs Availability\")\n",
    "plt.show()"
   ]
  },
  {
   "cell_type": "code",
   "execution_count": 7,
   "id": "aerial-chester",
   "metadata": {},
   "outputs": [
    {
     "data": {
      "text/plain": [
       "(0.1727550292269889, 3.580453465130398e-20)"
      ]
     },
     "execution_count": 7,
     "metadata": {},
     "output_type": "execute_result"
    }
   ],
   "source": [
    "scipy.stats.pearsonr(belize_df['calculated_host_listings_count'],belize_df['availability_365'])"
   ]
  },
  {
   "cell_type": "code",
   "execution_count": 8,
   "id": "dated-mobility",
   "metadata": {},
   "outputs": [
    {
     "data": {
      "text/plain": [
       "SpearmanrResult(correlation=0.13829213060714826, pvalue=2.064562139331095e-13)"
      ]
     },
     "execution_count": 8,
     "metadata": {},
     "output_type": "execute_result"
    }
   ],
   "source": [
    "scipy.stats.spearmanr(belize_df['calculated_host_listings_count'],belize_df['availability_365'])"
   ]
  },
  {
   "cell_type": "code",
   "execution_count": 9,
   "id": "becoming-separate",
   "metadata": {},
   "outputs": [
    {
     "data": {
      "text/plain": [
       "KendalltauResult(correlation=0.10075474184153557, pvalue=5.957493412383539e-14)"
      ]
     },
     "execution_count": 9,
     "metadata": {},
     "output_type": "execute_result"
    }
   ],
   "source": [
    "scipy.stats.kendalltau(belize_df['calculated_host_listings_count'],belize_df['availability_365'])"
   ]
  },
  {
   "cell_type": "code",
   "execution_count": 12,
   "id": "optimum-auckland",
   "metadata": {},
   "outputs": [
    {
     "data": {
      "text/plain": [
       "0.17275502922698924"
      ]
     },
     "execution_count": 12,
     "metadata": {},
     "output_type": "execute_result"
    }
   ],
   "source": [
    "belize_df['calculated_host_listings_count'].corr(belize_df['availability_365'])"
   ]
  },
  {
   "cell_type": "code",
   "execution_count": 10,
   "id": "historic-sailing",
   "metadata": {},
   "outputs": [
    {
     "data": {
      "text/plain": [
       "0.13829213060714826"
      ]
     },
     "execution_count": 10,
     "metadata": {},
     "output_type": "execute_result"
    }
   ],
   "source": [
    "belize_df['calculated_host_listings_count'].corr(belize_df['availability_365'], method='spearman')"
   ]
  },
  {
   "cell_type": "code",
   "execution_count": 11,
   "id": "blind-wedding",
   "metadata": {},
   "outputs": [
    {
     "data": {
      "text/plain": [
       "0.10075474184153557"
      ]
     },
     "execution_count": 11,
     "metadata": {},
     "output_type": "execute_result"
    }
   ],
   "source": [
    "belize_df['calculated_host_listings_count'].corr(belize_df['availability_365'], method='kendall')"
   ]
  },
  {
   "cell_type": "code",
   "execution_count": 13,
   "id": "inside-owner",
   "metadata": {},
   "outputs": [],
   "source": [
    "# Based on calculations above we can see all the correlations coefficient between these two variables are \n",
    "#positively correlated but relation is small positive.  "
   ]
  },
  {
   "cell_type": "code",
   "execution_count": 17,
   "id": "after-technician",
   "metadata": {},
   "outputs": [
    {
     "data": {
      "image/png": "[encoded data removed]",
      "text/plain": [
       "<Figure size 432x288 with 1 Axes>"
      ]
     },
     "metadata": {
      "needs_background": "light"
     },
     "output_type": "display_data"
    }
   ],
   "source": [
    "fig, ax = plt.subplots()\n",
    "ax.boxplot(belize_df['price'],showfliers=False)\n",
    "ax.set_xlabel(\"Price\")\n",
    "ax.set_title(\"Airbnb Price Graph\")\n",
    "plt.show()"
   ]
  },
  {
   "cell_type": "code",
   "execution_count": null,
   "id": "latter-model",
   "metadata": {},
   "outputs": [],
   "source": [
    "#According to graph shown above for price, we can see that the median for data is around 200 and data is mostly in range\n",
    "#from 150-400 and minimum value is close to 20 and maximum value is close to 800. as per the graph we do not see any \n",
    "#outliers and 75% of data value are under 40. "
   ]
  }
 ],
 "metadata": {
  "kernelspec": {
   "display_name": "Python 3",
   "language": "python",
   "name": "python3"
  },
  "language_info": {
   "codemirror_mode": {
    "name": "ipython",
    "version": 3
   },
   "file_extension": ".py",
   "mimetype": "text/x-python",
   "name": "python",
   "nbconvert_exporter": "python",
   "pygments_lexer": "ipython3",
   "version": "3.8.8"
  }
 },
 "nbformat": 4,
 "nbformat_minor": 5
}
