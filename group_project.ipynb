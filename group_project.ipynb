{
 "cells": [
  {
   "cell_type": "code",
   "execution_count": 3,
   "id": "minus-personal",
   "metadata": {},
   "outputs": [],
   "source": [
    "import matplotlib.pyplot as plt\n",
    "import pandas as pd\n",
    "import numpy as np\n",
    "import requests\n",
    "import time\n",
    "from pprint import pprint\n",
    "\n",
    "import api_keys\n"
   ]
  },
  {
   "cell_type": "markdown",
   "id": "dental-fifth",
   "metadata": {},
   "source": [
    "## FBI API Data\n",
    "For our analysis, we’ve picked the FBI data.\n",
    "Main FBI terms used in this dataset:\n",
    "\n",
    "--> LEOKA: Law Enforcement Officers Killed and Assaulted\n",
    "\n",
    "--> NIBRS: National Incident-Based Reporting System"
   ]
  },
  {
   "cell_type": "code",
   "execution_count": 4,
   "id": "gorgeous-planning",
   "metadata": {},
   "outputs": [
    {
     "name": "stdout",
     "output_type": "stream",
     "text": [
      "{'results': [{'data_year': 2019, 'population': 337556149, 'total_agency_count': 18671, 'published_agency_count': 14993, 'active_agency_count': 22021, 'covered_agency_count': 16, 'population_covered': 18660, 'agency_count_nibrs_submitting': 8536, 'agency_count_leoka_submitting': 8356, 'agency_count_pe_submitting': 15004, 'agency_count_srs_submitting': 7786, 'agency_count_asr_submitting': 11788, 'agency_count_hc_submitting': 15520, 'agency_count_supp_submitting': 15643, 'nibrs_population_covered': 146950904, 'total_population': 337556149, 'csv_header': 'data_year,population,total_agency_count,published_agency_count,active_agency_count,covered_agency_count,population_covered,agency_count_nibrs_submitting,agency_count_leoka_submitting,agency_count_pe_submitting,agency_count_srs_submitting,agency_count_supp_submitting,nibrs_population_covered', 'nibrs_population_percentage_covered': 43.533768}, {'data_year': 2018, 'population': 336536616, 'total_agency_count': 18560, 'published_agency_count': 15236, 'active_agency_count': 21896, 'covered_agency_count': 39, 'population_covered': 18737, 'agency_count_nibrs_submitting': 7777, 'agency_count_leoka_submitting': 7122, 'agency_count_pe_submitting': 15247, 'agency_count_srs_submitting': 8200, 'agency_count_asr_submitting': 13057, 'agency_count_hc_submitting': 16107, 'agency_count_supp_submitting': 15615, 'nibrs_population_covered': 129148182, 'total_population': 336536616, 'csv_header': 'data_year,population,total_agency_count,published_agency_count,active_agency_count,covered_agency_count,population_covered,agency_count_nibrs_submitting,agency_count_leoka_submitting,agency_count_pe_submitting,agency_count_srs_submitting,agency_count_supp_submitting,nibrs_population_covered', 'nibrs_population_percentage_covered': 38.37567}, {'data_year': 2017, 'population': 335231625, 'total_agency_count': 18448, 'published_agency_count': 16393, 'active_agency_count': 21764, 'covered_agency_count': 29, 'population_covered': 51097, 'agency_count_nibrs_submitting': 7148, 'agency_count_leoka_submitting': 6680, 'agency_count_pe_submitting': 16399, 'agency_count_srs_submitting': 9381, 'agency_count_asr_submitting': 13684, 'agency_count_hc_submitting': 16285, 'agency_count_supp_submitting': 15578, 'nibrs_population_covered': 109218573, 'total_population': 335231625, 'csv_header': 'data_year,population,total_agency_count,published_agency_count,active_agency_count,covered_agency_count,population_covered,agency_count_nibrs_submitting,agency_count_leoka_submitting,agency_count_pe_submitting,agency_count_srs_submitting,agency_count_supp_submitting,nibrs_population_covered', 'nibrs_population_percentage_covered': 32.580036}, {'data_year': 2016, 'population': 329242793, 'total_agency_count': 18466, 'published_agency_count': 16921, 'active_agency_count': 21625, 'covered_agency_count': 28, 'population_covered': 111631, 'agency_count_nibrs_submitting': 7083, 'agency_count_leoka_submitting': 6388, 'agency_count_pe_submitting': 16927, 'agency_count_srs_submitting': 9986, 'agency_count_asr_submitting': 13661, 'agency_count_hc_submitting': 15940, 'agency_count_supp_submitting': 15785, 'nibrs_population_covered': 105287171, 'total_population': 329242793, 'csv_header': 'data_year,population,total_agency_count,published_agency_count,active_agency_count,covered_agency_count,population_covered,agency_count_nibrs_submitting,agency_count_leoka_submitting,agency_count_pe_submitting,agency_count_srs_submitting,agency_count_supp_submitting,nibrs_population_covered', 'nibrs_population_percentage_covered': 31.97858}, {'data_year': 2015, 'population': 327511036, 'total_agency_count': 18435, 'published_agency_count': 16813, 'active_agency_count': 21551, 'covered_agency_count': 20, 'population_covered': 40665, 'agency_count_nibrs_submitting': 6823, 'agency_count_leoka_submitting': 6223, 'agency_count_pe_submitting': 16815, 'agency_count_srs_submitting': 10102, 'agency_count_asr_submitting': 13434, 'agency_count_hc_submitting': 15096, 'agency_count_supp_submitting': 15655, 'nibrs_population_covered': 99789318, 'total_population': 327511036, 'csv_header': 'data_year,population,total_agency_count,published_agency_count,active_agency_count,covered_agency_count,population_covered,agency_count_nibrs_submitting,agency_count_leoka_submitting,agency_count_pe_submitting,agency_count_srs_submitting,agency_count_supp_submitting,nibrs_population_covered', 'nibrs_population_percentage_covered': 30.468994}, {'data_year': 2014, 'population': 324735099, 'total_agency_count': 18492, 'published_agency_count': 16625, 'active_agency_count': 21367, 'covered_agency_count': 7, 'population_covered': 32102, 'agency_count_nibrs_submitting': 6682, 'agency_count_leoka_submitting': 5902, 'agency_count_pe_submitting': 16626, 'agency_count_srs_submitting': 10048, 'agency_count_asr_submitting': 12888, 'agency_count_hc_submitting': 15696, 'agency_count_supp_submitting': 15397, 'nibrs_population_covered': 95815145, 'total_population': 324735099, 'csv_header': 'data_year,population,total_agency_count,published_agency_count,active_agency_count,covered_agency_count,population_covered,agency_count_nibrs_submitting,agency_count_leoka_submitting,agency_count_pe_submitting,agency_count_srs_submitting,agency_count_supp_submitting,nibrs_population_covered', 'nibrs_population_percentage_covered': 29.50563}, {'data_year': 2013, 'population': 321952676, 'total_agency_count': 18409, 'published_agency_count': 16655, 'active_agency_count': 21240, 'covered_agency_count': 19, 'population_covered': 28061, 'agency_count_nibrs_submitting': 6477, 'agency_count_leoka_submitting': 5304, 'agency_count_pe_submitting': 16656, 'agency_count_srs_submitting': 10215, 'agency_count_asr_submitting': 12427, 'agency_count_hc_submitting': 15225, 'agency_count_supp_submitting': 15455, 'nibrs_population_covered': 94097559, 'total_population': 321952676, 'csv_header': 'data_year,population,total_agency_count,published_agency_count,active_agency_count,covered_agency_count,population_covered,agency_count_nibrs_submitting,agency_count_leoka_submitting,agency_count_pe_submitting,agency_count_srs_submitting,agency_count_supp_submitting,nibrs_population_covered', 'nibrs_population_percentage_covered': 29.22714}, {'data_year': 2012, 'population': 319689868, 'total_agency_count': 18295, 'published_agency_count': 16612, 'active_agency_count': 21094, 'covered_agency_count': 19, 'population_covered': 116631, 'agency_count_nibrs_submitting': 6339, 'agency_count_leoka_submitting': 5039, 'agency_count_pe_submitting': 16615, 'agency_count_srs_submitting': 10355, 'agency_count_asr_submitting': 12890, 'agency_count_hc_submitting': 14624, 'agency_count_supp_submitting': 15430, 'nibrs_population_covered': 92910318, 'total_population': 319689868, 'csv_header': 'data_year,population,total_agency_count,published_agency_count,active_agency_count,covered_agency_count,population_covered,agency_count_nibrs_submitting,agency_count_leoka_submitting,agency_count_pe_submitting,agency_count_srs_submitting,agency_count_supp_submitting,nibrs_population_covered', 'nibrs_population_percentage_covered': 29.062643}, {'data_year': 2011, 'population': 317176318, 'total_agency_count': 18241, 'published_agency_count': 16467, 'active_agency_count': 20943, 'covered_agency_count': 12, 'population_covered': 88075, 'agency_count_nibrs_submitting': 6079, 'agency_count_leoka_submitting': 4856, 'agency_count_pe_submitting': 16470, 'agency_count_srs_submitting': 10488, 'agency_count_asr_submitting': 12627, 'agency_count_hc_submitting': 14672, 'agency_count_supp_submitting': 15168, 'nibrs_population_covered': 89859960, 'total_population': 317176318, 'csv_header': 'data_year,population,total_agency_count,published_agency_count,active_agency_count,covered_agency_count,population_covered,agency_count_nibrs_submitting,agency_count_leoka_submitting,agency_count_pe_submitting,agency_count_srs_submitting,agency_count_supp_submitting,nibrs_population_covered', 'nibrs_population_percentage_covered': 28.331232}, {'data_year': 2010, 'population': 314164230, 'total_agency_count': 18145, 'published_agency_count': 16451, 'active_agency_count': 20825, 'covered_agency_count': 7, 'population_covered': 14172, 'agency_count_nibrs_submitting': 5962, 'agency_count_leoka_submitting': 4641, 'agency_count_pe_submitting': 16454, 'agency_count_srs_submitting': 10570, 'agency_count_asr_submitting': 12725, 'agency_count_hc_submitting': 14992, 'agency_count_supp_submitting': 15085, 'nibrs_population_covered': 86332656, 'total_population': 314164230, 'csv_header': 'data_year,population,total_agency_count,published_agency_count,active_agency_count,covered_agency_count,population_covered,agency_count_nibrs_submitting,agency_count_leoka_submitting,agency_count_pe_submitting,agency_count_srs_submitting,agency_count_supp_submitting,nibrs_population_covered', 'nibrs_population_percentage_covered': 27.480104}, {'data_year': 2009, 'population': 312363383, 'total_agency_count': 18037, 'published_agency_count': 15956, 'active_agency_count': 20647, 'covered_agency_count': 40, 'population_covered': 16269, 'agency_count_nibrs_submitting': 5906, 'agency_count_leoka_submitting': 4435, 'agency_count_pe_submitting': 15959, 'agency_count_srs_submitting': 10087, 'agency_count_asr_submitting': 12915, 'agency_count_hc_submitting': 14454, 'agency_count_supp_submitting': 15030, 'nibrs_population_covered': 83250692, 'total_population': 312363383, 'csv_header': 'data_year,population,total_agency_count,published_agency_count,active_agency_count,covered_agency_count,population_covered,agency_count_nibrs_submitting,agency_count_leoka_submitting,agency_count_pe_submitting,agency_count_srs_submitting,agency_count_supp_submitting,nibrs_population_covered', 'nibrs_population_percentage_covered': 26.65187}, {'data_year': 2008, 'population': 309324491, 'total_agency_count': 17976, 'published_agency_count': 15681, 'active_agency_count': 20478, 'covered_agency_count': 31, 'population_covered': 54330, 'agency_count_nibrs_submitting': 5554, 'agency_count_leoka_submitting': 3342, 'agency_count_pe_submitting': 15683, 'agency_count_srs_submitting': 10284, 'agency_count_asr_submitting': 12290, 'agency_count_hc_submitting': 14210, 'agency_count_supp_submitting': 14833, 'nibrs_population_covered': 79830405, 'total_population': 309324491, 'csv_header': 'data_year,population,total_agency_count,published_agency_count,active_agency_count,covered_agency_count,population_covered,agency_count_nibrs_submitting,agency_count_leoka_submitting,agency_count_pe_submitting,agency_count_srs_submitting,agency_count_supp_submitting,nibrs_population_covered', 'nibrs_population_percentage_covered': 25.807983}, {'data_year': 2007, 'population': 306755209, 'total_agency_count': 17918, 'published_agency_count': 15631, 'active_agency_count': 20349, 'covered_agency_count': 15, 'population_covered': 15235, 'agency_count_nibrs_submitting': 5276, 'agency_count_leoka_submitting': 3100, 'agency_count_pe_submitting': 15633, 'agency_count_srs_submitting': 10472, 'agency_count_asr_submitting': 12369, 'agency_count_hc_submitting': 13309, 'agency_count_supp_submitting': 14708, 'nibrs_population_covered': 76360982, 'total_population': 306755209, 'csv_header': 'data_year,population,total_agency_count,published_agency_count,active_agency_count,covered_agency_count,population_covered,agency_count_nibrs_submitting,agency_count_leoka_submitting,agency_count_pe_submitting,agency_count_srs_submitting,agency_count_supp_submitting,nibrs_population_covered', 'nibrs_population_percentage_covered': 24.893135}, {'data_year': 2006, 'population': 304523081, 'total_agency_count': 17725, 'published_agency_count': 15252, 'active_agency_count': 20147, 'covered_agency_count': 13, 'population_covered': 20373, 'agency_count_nibrs_submitting': 5144, 'agency_count_leoka_submitting': 2993, 'agency_count_pe_submitting': 15254, 'agency_count_srs_submitting': 10231, 'agency_count_asr_submitting': 11745, 'agency_count_hc_submitting': 12717, 'agency_count_supp_submitting': 14135, 'nibrs_population_covered': 73680101, 'total_population': 304523081, 'csv_header': 'data_year,population,total_agency_count,published_agency_count,active_agency_count,covered_agency_count,population_covered,agency_count_nibrs_submitting,agency_count_leoka_submitting,agency_count_pe_submitting,agency_count_srs_submitting,agency_count_supp_submitting,nibrs_population_covered', 'nibrs_population_percentage_covered': 24.195246}, {'data_year': 2005, 'population': 301499406, 'total_agency_count': 17459, 'published_agency_count': 14619, 'active_agency_count': 19840, 'covered_agency_count': 6, 'population_covered': 6691, 'agency_count_nibrs_submitting': 4975, 'agency_count_leoka_submitting': 2859, 'agency_count_pe_submitting': 14621, 'agency_count_srs_submitting': 9813, 'agency_count_asr_submitting': 11786, 'agency_count_hc_submitting': 12486, 'agency_count_supp_submitting': 14129, 'nibrs_population_covered': 71481960, 'total_population': 301499406, 'csv_header': 'data_year,population,total_agency_count,published_agency_count,active_agency_count,covered_agency_count,population_covered,agency_count_nibrs_submitting,agency_count_leoka_submitting,agency_count_pe_submitting,agency_count_srs_submitting,agency_count_supp_submitting,nibrs_population_covered', 'nibrs_population_percentage_covered': 23.708824}, {'data_year': 2004, 'population': 298656157, 'total_agency_count': 17502, 'published_agency_count': 14657, 'active_agency_count': 19857, 'covered_agency_count': 18, 'population_covered': 12131, 'agency_count_nibrs_submitting': 4811, 'agency_count_leoka_submitting': 2632, 'agency_count_pe_submitting': 14658, 'agency_count_srs_submitting': 9970, 'agency_count_asr_submitting': 11441, 'agency_count_hc_submitting': 12764, 'agency_count_supp_submitting': 14030, 'nibrs_population_covered': 66482416, 'total_population': 298656157, 'csv_header': 'data_year,population,total_agency_count,published_agency_count,active_agency_count,covered_agency_count,population_covered,agency_count_nibrs_submitting,agency_count_leoka_submitting,agency_count_pe_submitting,agency_count_srs_submitting,agency_count_supp_submitting,nibrs_population_covered', 'nibrs_population_percentage_covered': 22.260519}, {'data_year': 2003, 'population': 295709600, 'total_agency_count': 17384, 'published_agency_count': 14139, 'active_agency_count': 19672, 'covered_agency_count': 22, 'population_covered': 14710, 'agency_count_nibrs_submitting': 4516, 'agency_count_leoka_submitting': 1872, 'agency_count_pe_submitting': 14140, 'agency_count_srs_submitting': 9745, 'agency_count_asr_submitting': 11371, 'agency_count_hc_submitting': 12032, 'agency_count_supp_submitting': 13785, 'nibrs_population_covered': 61887047, 'total_population': 295709600, 'csv_header': 'data_year,population,total_agency_count,published_agency_count,active_agency_count,covered_agency_count,population_covered,agency_count_nibrs_submitting,agency_count_leoka_submitting,agency_count_pe_submitting,agency_count_srs_submitting,agency_count_supp_submitting,nibrs_population_covered', 'nibrs_population_percentage_covered': 20.928318}, {'data_year': 2002, 'population': 293182392, 'total_agency_count': 17327, 'published_agency_count': 13950, 'active_agency_count': 19511, 'covered_agency_count': 3, 'population_covered': 3620, 'agency_count_nibrs_submitting': 4042, 'agency_count_leoka_submitting': 1517, 'agency_count_pe_submitting': 13951, 'agency_count_srs_submitting': 10063, 'agency_count_asr_submitting': 10948, 'agency_count_hc_submitting': 12110, 'agency_count_supp_submitting': 13473, 'nibrs_population_covered': 56433016, 'total_population': 293182392, 'csv_header': 'data_year,population,total_agency_count,published_agency_count,active_agency_count,covered_agency_count,population_covered,agency_count_nibrs_submitting,agency_count_leoka_submitting,agency_count_pe_submitting,agency_count_srs_submitting,agency_count_supp_submitting,nibrs_population_covered', 'nibrs_population_percentage_covered': 19.248432}, {'data_year': 2001, 'population': 289627938, 'total_agency_count': 16974, 'published_agency_count': 13414, 'active_agency_count': 19143, 'covered_agency_count': 6, 'population_covered': 4307, 'agency_count_nibrs_submitting': 3785, 'agency_count_leoka_submitting': 1390, 'agency_count_pe_submitting': 13415, 'agency_count_srs_submitting': 9772, 'agency_count_asr_submitting': 10281, 'agency_count_hc_submitting': 12123, 'agency_count_supp_submitting': 13061, 'nibrs_population_covered': 53079226, 'total_population': 289627938, 'csv_header': 'data_year,population,total_agency_count,published_agency_count,active_agency_count,covered_agency_count,population_covered,agency_count_nibrs_submitting,agency_count_leoka_submitting,agency_count_pe_submitting,agency_count_srs_submitting,agency_count_supp_submitting,nibrs_population_covered', 'nibrs_population_percentage_covered': 18.326694}, {'data_year': 2000, 'population': 286335900, 'total_agency_count': 16832, 'published_agency_count': 13259, 'active_agency_count': 18994, 'covered_agency_count': 10, 'population_covered': 40475, 'agency_count_nibrs_submitting': 3576, 'agency_count_leoka_submitting': 1266, 'agency_count_pe_submitting': 13260, 'agency_count_srs_submitting': 9818, 'agency_count_asr_submitting': 9906, 'agency_count_hc_submitting': 11795, 'agency_count_supp_submitting': 12760, 'nibrs_population_covered': 49081004, 'total_population': 286335900, 'csv_header': 'data_year,population,total_agency_count,published_agency_count,active_agency_count,covered_agency_count,population_covered,agency_count_nibrs_submitting,agency_count_leoka_submitting,agency_count_pe_submitting,agency_count_srs_submitting,agency_count_supp_submitting,nibrs_population_covered', 'nibrs_population_percentage_covered': 17.141058}, {'data_year': 1999, 'population': 277475255, 'total_agency_count': 17338, 'published_agency_count': 12707, 'active_agency_count': 19292, 'covered_agency_count': 5, 'population_covered': 6591, 'agency_count_nibrs_submitting': 2986, 'agency_count_leoka_submitting': 1195, 'agency_count_pe_submitting': 12709, 'agency_count_srs_submitting': 9971, 'agency_count_asr_submitting': 9504, 'agency_count_hc_submitting': 12109, 'agency_count_supp_submitting': 12399, 'nibrs_population_covered': 40515418, 'total_population': 277475255, 'csv_header': 'data_year,population,total_agency_count,published_agency_count,active_agency_count,covered_agency_count,population_covered,agency_count_nibrs_submitting,agency_count_leoka_submitting,agency_count_pe_submitting,agency_count_srs_submitting,agency_count_supp_submitting,nibrs_population_covered', 'nibrs_population_percentage_covered': 14.601451}, {'data_year': 1998, 'population': 275190443, 'total_agency_count': 17078, 'published_agency_count': 12219, 'active_agency_count': 19027, 'covered_agency_count': 5, 'population_covered': 7192, 'agency_count_nibrs_submitting': 2973, 'agency_count_leoka_submitting': 948, 'agency_count_pe_submitting': 12220, 'agency_count_srs_submitting': 9994, 'agency_count_asr_submitting': 9599, 'agency_count_hc_submitting': 10708, 'agency_count_supp_submitting': 11910, 'nibrs_population_covered': 37506010, 'total_population': 275190443, 'csv_header': 'data_year,population,total_agency_count,published_agency_count,active_agency_count,covered_agency_count,population_covered,agency_count_nibrs_submitting,agency_count_leoka_submitting,agency_count_pe_submitting,agency_count_srs_submitting,agency_count_supp_submitting,nibrs_population_covered', 'nibrs_population_percentage_covered': 13.62911}, {'data_year': 1997, 'population': 272548861, 'total_agency_count': 17110, 'published_agency_count': 12383, 'active_agency_count': 18930, 'covered_agency_count': 10, 'population_covered': 4751, 'agency_count_nibrs_submitting': 2089, 'agency_count_leoka_submitting': 734, 'agency_count_pe_submitting': 12384, 'agency_count_srs_submitting': 10587, 'agency_count_asr_submitting': 9479, 'agency_count_hc_submitting': 11090, 'agency_count_supp_submitting': 11685, 'nibrs_population_covered': 28130682, 'total_population': 272548861, 'csv_header': 'data_year,population,total_agency_count,published_agency_count,active_agency_count,covered_agency_count,population_covered,agency_count_nibrs_submitting,agency_count_leoka_submitting,agency_count_pe_submitting,agency_count_srs_submitting,agency_count_supp_submitting,nibrs_population_covered', 'nibrs_population_percentage_covered': 10.321336}, {'data_year': 1996, 'population': 270350716, 'total_agency_count': 16795, 'published_agency_count': 12091, 'active_agency_count': 18515, 'covered_agency_count': 9, 'population_covered': 61630, 'agency_count_nibrs_submitting': 1636, 'agency_count_leoka_submitting': 669, 'agency_count_pe_submitting': 12092, 'agency_count_srs_submitting': 10670, 'agency_count_asr_submitting': 10040, 'agency_count_hc_submitting': 11281, 'agency_count_supp_submitting': 11766, 'nibrs_population_covered': 23753345, 'total_population': 270350716, 'csv_header': 'data_year,population,total_agency_count,published_agency_count,active_agency_count,covered_agency_count,population_covered,agency_count_nibrs_submitting,agency_count_leoka_submitting,agency_count_pe_submitting,agency_count_srs_submitting,agency_count_supp_submitting,nibrs_population_covered', 'nibrs_population_percentage_covered': 8.786121}, {'data_year': 1995, 'population': 267428288, 'total_agency_count': 16776, 'published_agency_count': 12866, 'active_agency_count': 18460, 'covered_agency_count': 6, 'population_covered': 34146, 'agency_count_nibrs_submitting': 1368, 'agency_count_leoka_submitting': 601, 'agency_count_pe_submitting': 12867, 'agency_count_srs_submitting': 11681, 'agency_count_asr_submitting': 10045, 'agency_count_hc_submitting': 9535, 'agency_count_supp_submitting': 12666, 'nibrs_population_covered': 18690699, 'total_population': 267428288, 'csv_header': 'data_year,population,total_agency_count,published_agency_count,active_agency_count,covered_agency_count,population_covered,agency_count_nibrs_submitting,agency_count_leoka_submitting,agency_count_pe_submitting,agency_count_srs_submitting,agency_count_supp_submitting,nibrs_population_covered', 'nibrs_population_percentage_covered': 6.9890513}, {'data_year': 1994, 'population': 264964630, 'total_agency_count': 16658, 'published_agency_count': 13080, 'active_agency_count': 18345, 'covered_agency_count': 5, 'population_covered': 12685, 'agency_count_nibrs_submitting': 1652, 'agency_count_leoka_submitting': 568, 'agency_count_pe_submitting': 13081, 'agency_count_srs_submitting': 12249, 'agency_count_asr_submitting': 10704, 'agency_count_hc_submitting': 7337, 'agency_count_supp_submitting': 12876, 'nibrs_population_covered': 19711242, 'total_population': 264964630, 'csv_header': 'data_year,population,total_agency_count,published_agency_count,active_agency_count,covered_agency_count,population_covered,agency_count_nibrs_submitting,agency_count_leoka_submitting,agency_count_pe_submitting,agency_count_srs_submitting,agency_count_supp_submitting,nibrs_population_covered', 'nibrs_population_percentage_covered': 7.4391975}, {'data_year': 1993, 'population': 262453212, 'total_agency_count': 16517, 'published_agency_count': 13029, 'active_agency_count': 18171, 'covered_agency_count': 3, 'population_covered': 10033, 'agency_count_nibrs_submitting': 1590, 'agency_count_leoka_submitting': 428, 'agency_count_pe_submitting': 13030, 'agency_count_srs_submitting': 12354, 'agency_count_asr_submitting': 10282, 'agency_count_hc_submitting': 6512, 'agency_count_supp_submitting': 12855, 'nibrs_population_covered': 18846909, 'total_population': 262453212, 'csv_header': 'data_year,population,total_agency_count,published_agency_count,active_agency_count,covered_agency_count,population_covered,agency_count_nibrs_submitting,agency_count_leoka_submitting,agency_count_pe_submitting,agency_count_srs_submitting,agency_count_supp_submitting,nibrs_population_covered', 'nibrs_population_percentage_covered': 7.181054}, {'data_year': 1992, 'population': 259603780, 'total_agency_count': 16325, 'published_agency_count': 13910, 'active_agency_count': 17988, 'covered_agency_count': 9, 'population_covered': 12769, 'agency_count_nibrs_submitting': 1054, 'agency_count_leoka_submitting': 413, 'agency_count_pe_submitting': 13911, 'agency_count_srs_submitting': 13274, 'agency_count_asr_submitting': 11062, 'agency_count_hc_submitting': 4829, 'agency_count_supp_submitting': 13159, 'nibrs_population_covered': 14503260, 'total_population': 259603780, 'csv_header': 'data_year,population,total_agency_count,published_agency_count,active_agency_count,covered_agency_count,population_covered,agency_count_nibrs_submitting,agency_count_leoka_submitting,agency_count_pe_submitting,agency_count_srs_submitting,agency_count_supp_submitting,nibrs_population_covered', 'nibrs_population_percentage_covered': 5.586691}, {'data_year': 1991, 'population': 256655913, 'total_agency_count': 16167, 'published_agency_count': 13764, 'active_agency_count': 17828, 'covered_agency_count': 14, 'population_covered': 23583, 'agency_count_nibrs_submitting': 713, 'agency_count_leoka_submitting': 330, 'agency_count_pe_submitting': 13765, 'agency_count_srs_submitting': 13453, 'agency_count_asr_submitting': 10196, 'agency_count_hc_submitting': 2746, 'agency_count_supp_submitting': 12988, 'nibrs_population_covered': 11578645, 'total_population': 256655913, 'csv_header': 'data_year,population,total_agency_count,published_agency_count,active_agency_count,covered_agency_count,population_covered,agency_count_nibrs_submitting,agency_count_leoka_submitting,agency_count_pe_submitting,agency_count_srs_submitting,agency_count_supp_submitting,nibrs_population_covered', 'nibrs_population_percentage_covered': 4.511349}, {'data_year': 1990, 'population': 253286315, 'total_agency_count': 15870, 'published_agency_count': 13920, 'active_agency_count': 17584, 'covered_agency_count': 12, 'population_covered': 61836, 'agency_count_nibrs_submitting': 2, 'agency_count_leoka_submitting': 1, 'agency_count_pe_submitting': 13921, 'agency_count_srs_submitting': 13905, 'agency_count_asr_submitting': 10765, 'agency_count_hc_submitting': 0, 'agency_count_supp_submitting': 13443, 'nibrs_population_covered': 180471, 'total_population': 253286315, 'csv_header': 'data_year,population,total_agency_count,published_agency_count,active_agency_count,covered_agency_count,population_covered,agency_count_nibrs_submitting,agency_count_leoka_submitting,agency_count_pe_submitting,agency_count_srs_submitting,agency_count_supp_submitting,nibrs_population_covered', 'nibrs_population_percentage_covered': 0.07125178}, {'data_year': 1989, 'population': 252766828, 'total_agency_count': 15753, 'published_agency_count': 14116, 'active_agency_count': 17405, 'covered_agency_count': 16, 'population_covered': 21899, 'agency_count_nibrs_submitting': 0, 'agency_count_leoka_submitting': 0, 'agency_count_pe_submitting': 14117, 'agency_count_srs_submitting': 14098, 'agency_count_asr_submitting': 10502, 'agency_count_hc_submitting': 0, 'agency_count_supp_submitting': 13196, 'nibrs_population_covered': 0, 'total_population': 252766828, 'csv_header': 'data_year,population,total_agency_count,published_agency_count,active_agency_count,covered_agency_count,population_covered,agency_count_nibrs_submitting,agency_count_leoka_submitting,agency_count_pe_submitting,agency_count_srs_submitting,agency_count_supp_submitting,nibrs_population_covered', 'nibrs_population_percentage_covered': 0.0}, {'data_year': 1988, 'population': 250263626, 'total_agency_count': 15653, 'published_agency_count': 12904, 'active_agency_count': 17285, 'covered_agency_count': 12, 'population_covered': 40436, 'agency_count_nibrs_submitting': 0, 'agency_count_leoka_submitting': 0, 'agency_count_pe_submitting': 12905, 'agency_count_srs_submitting': 12890, 'agency_count_asr_submitting': 10077, 'agency_count_hc_submitting': 0, 'agency_count_supp_submitting': 12961, 'nibrs_population_covered': 0, 'total_population': 250263626, 'csv_header': 'data_year,population,total_agency_count,published_agency_count,active_agency_count,covered_agency_count,population_covered,agency_count_nibrs_submitting,agency_count_leoka_submitting,agency_count_pe_submitting,agency_count_srs_submitting,agency_count_supp_submitting,nibrs_population_covered', 'nibrs_population_percentage_covered': 0.0}, {'data_year': 1987, 'population': 247674898, 'total_agency_count': 15951, 'published_agency_count': 14063, 'active_agency_count': 17517, 'covered_agency_count': 9, 'population_covered': 30247, 'agency_count_nibrs_submitting': 0, 'agency_count_leoka_submitting': 0, 'agency_count_pe_submitting': 14064, 'agency_count_srs_submitting': 14052, 'agency_count_asr_submitting': 10613, 'agency_count_hc_submitting': 0, 'agency_count_supp_submitting': 13829, 'nibrs_population_covered': 0, 'total_population': 247674898, 'csv_header': 'data_year,population,total_agency_count,published_agency_count,active_agency_count,covered_agency_count,population_covered,agency_count_nibrs_submitting,agency_count_leoka_submitting,agency_count_pe_submitting,agency_count_srs_submitting,agency_count_supp_submitting,nibrs_population_covered', 'nibrs_population_percentage_covered': 0.0}, {'data_year': 1986, 'population': 244909160, 'total_agency_count': 16028, 'published_agency_count': 14140, 'active_agency_count': 17432, 'covered_agency_count': 11, 'population_covered': 89029, 'agency_count_nibrs_submitting': 0, 'agency_count_leoka_submitting': 0, 'agency_count_pe_submitting': 14141, 'agency_count_srs_submitting': 14127, 'agency_count_asr_submitting': 10744, 'agency_count_hc_submitting': 0, 'agency_count_supp_submitting': 13921, 'nibrs_population_covered': 0, 'total_population': 244909160, 'csv_header': 'data_year,population,total_agency_count,published_agency_count,active_agency_count,covered_agency_count,population_covered,agency_count_nibrs_submitting,agency_count_leoka_submitting,agency_count_pe_submitting,agency_count_srs_submitting,agency_count_supp_submitting,nibrs_population_covered', 'nibrs_population_percentage_covered': 0.0}, {'data_year': 1985, 'population': 242487508, 'total_agency_count': 15879, 'published_agency_count': 14081, 'active_agency_count': 17258, 'covered_agency_count': 23, 'population_covered': 64182, 'agency_count_nibrs_submitting': 0, 'agency_count_leoka_submitting': 0, 'agency_count_pe_submitting': 14082, 'agency_count_srs_submitting': 14056, 'agency_count_asr_submitting': 11260, 'agency_count_hc_submitting': 0, 'agency_count_supp_submitting': 13870, 'nibrs_population_covered': 0, 'total_population': 242487508, 'csv_header': 'data_year,population,total_agency_count,published_agency_count,active_agency_count,covered_agency_count,population_covered,agency_count_nibrs_submitting,agency_count_leoka_submitting,agency_count_pe_submitting,agency_count_srs_submitting,agency_count_supp_submitting,nibrs_population_covered', 'nibrs_population_percentage_covered': 0.0}, {'data_year': 1984, 'population': 239750938, 'total_agency_count': 15771, 'published_agency_count': 13901, 'active_agency_count': 17028, 'covered_agency_count': 16, 'population_covered': 23274, 'agency_count_nibrs_submitting': 0, 'agency_count_leoka_submitting': 0, 'agency_count_pe_submitting': 13902, 'agency_count_srs_submitting': 13884, 'agency_count_asr_submitting': 10693, 'agency_count_hc_submitting': 0, 'agency_count_supp_submitting': 13699, 'nibrs_population_covered': 0, 'total_population': 239750938, 'csv_header': 'data_year,population,total_agency_count,published_agency_count,active_agency_count,covered_agency_count,population_covered,agency_count_nibrs_submitting,agency_count_leoka_submitting,agency_count_pe_submitting,agency_count_srs_submitting,agency_count_supp_submitting,nibrs_population_covered', 'nibrs_population_percentage_covered': 0.0}, {'data_year': 1983, 'population': 237625526, 'total_agency_count': 15762, 'published_agency_count': 13748, 'active_agency_count': 16906, 'covered_agency_count': 16, 'population_covered': 127650, 'agency_count_nibrs_submitting': 0, 'agency_count_leoka_submitting': 0, 'agency_count_pe_submitting': 13752, 'agency_count_srs_submitting': 13734, 'agency_count_asr_submitting': 10824, 'agency_count_hc_submitting': 0, 'agency_count_supp_submitting': 13529, 'nibrs_population_covered': 0, 'total_population': 237625526, 'csv_header': 'data_year,population,total_agency_count,published_agency_count,active_agency_count,covered_agency_count,population_covered,agency_count_nibrs_submitting,agency_count_leoka_submitting,agency_count_pe_submitting,agency_count_srs_submitting,agency_count_supp_submitting,nibrs_population_covered', 'nibrs_population_percentage_covered': 0.0}, {'data_year': 1982, 'population': 238238554, 'total_agency_count': 15680, 'published_agency_count': 13831, 'active_agency_count': 16789, 'covered_agency_count': 32, 'population_covered': 71619, 'agency_count_nibrs_submitting': 0, 'agency_count_leoka_submitting': 0, 'agency_count_pe_submitting': 13832, 'agency_count_srs_submitting': 13798, 'agency_count_asr_submitting': 9931, 'agency_count_hc_submitting': 0, 'agency_count_supp_submitting': 13622, 'nibrs_population_covered': 0, 'total_population': 238238554, 'csv_header': 'data_year,population,total_agency_count,published_agency_count,active_agency_count,covered_agency_count,population_covered,agency_count_nibrs_submitting,agency_count_leoka_submitting,agency_count_pe_submitting,agency_count_srs_submitting,agency_count_supp_submitting,nibrs_population_covered', 'nibrs_population_percentage_covered': 0.0}, {'data_year': 1981, 'population': 235449753, 'total_agency_count': 15697, 'published_agency_count': 14173, 'active_agency_count': 16607, 'covered_agency_count': 34, 'population_covered': 50483, 'agency_count_nibrs_submitting': 0, 'agency_count_leoka_submitting': 0, 'agency_count_pe_submitting': 14174, 'agency_count_srs_submitting': 14138, 'agency_count_asr_submitting': 10411, 'agency_count_hc_submitting': 0, 'agency_count_supp_submitting': 13745, 'nibrs_population_covered': 0, 'total_population': 235449753, 'csv_header': 'data_year,population,total_agency_count,published_agency_count,active_agency_count,covered_agency_count,population_covered,agency_count_nibrs_submitting,agency_count_leoka_submitting,agency_count_pe_submitting,agency_count_srs_submitting,agency_count_supp_submitting,nibrs_population_covered', 'nibrs_population_percentage_covered': 0.0}, {'data_year': 1980, 'population': 231563235, 'total_agency_count': 15555, 'published_agency_count': 14151, 'active_agency_count': 16407, 'covered_agency_count': 37, 'population_covered': 49789, 'agency_count_nibrs_submitting': 0, 'agency_count_leoka_submitting': 0, 'agency_count_pe_submitting': 14155, 'agency_count_srs_submitting': 14116, 'agency_count_asr_submitting': 9621, 'agency_count_hc_submitting': 0, 'agency_count_supp_submitting': 13673, 'nibrs_population_covered': 0, 'total_population': 231563235, 'csv_header': 'data_year,population,total_agency_count,published_agency_count,active_agency_count,covered_agency_count,population_covered,agency_count_nibrs_submitting,agency_count_leoka_submitting,agency_count_pe_submitting,agency_count_srs_submitting,agency_count_supp_submitting,nibrs_population_covered', 'nibrs_population_percentage_covered': 0.0}, {'data_year': 1979, 'population': 225960164, 'total_agency_count': 15449, 'published_agency_count': 14032, 'active_agency_count': 16171, 'covered_agency_count': 15, 'population_covered': 19852, 'agency_count_nibrs_submitting': 0, 'agency_count_leoka_submitting': 0, 'agency_count_pe_submitting': 14036, 'agency_count_srs_submitting': 14019, 'agency_count_asr_submitting': 10022, 'agency_count_hc_submitting': 0, 'agency_count_supp_submitting': 13807, 'nibrs_population_covered': 0, 'total_population': 225960164, 'csv_header': 'data_year,population,total_agency_count,published_agency_count,active_agency_count,covered_agency_count,population_covered,agency_count_nibrs_submitting,agency_count_leoka_submitting,agency_count_pe_submitting,agency_count_srs_submitting,agency_count_supp_submitting,nibrs_population_covered', 'nibrs_population_percentage_covered': 0.0}], 'pagination': {'count': 41, 'page': 0, 'pages': 1, 'per_page': 0}}\n"
     ]
    }
   ],
   "source": [
    "#base_url = \"http://api.openweathermap.org/data/2.5/weather?units=Imperial&APPID=\" + api_key\n",
    "\n",
    "#req = requests.get(base_url + f'&q={c[0]}').json()\n",
    "#print(req)\n",
    "proj_key = api_keys.fbi_key\n",
    "\n",
    "base_url = \"https://api.usa.gov/crime/fbi/sapi/api/participation/national?api_key=\" + proj_key\n",
    "\n",
    "req = requests.get(base_url).json()\n",
    "\n",
    "print(req)\n",
    "\n"
   ]
  },
  {
   "cell_type": "code",
   "execution_count": 5,
   "id": "advanced-actor",
   "metadata": {},
   "outputs": [
    {
     "data": {
      "text/html": [
       "<div>\n",
       "<style scoped>\n",
       "    .dataframe tbody tr th:only-of-type {\n",
       "        vertical-align: middle;\n",
       "    }\n",
       "\n",
       "    .dataframe tbody tr th {\n",
       "        vertical-align: top;\n",
       "    }\n",
       "\n",
       "    .dataframe thead th {\n",
       "        text-align: right;\n",
       "    }\n",
       "</style>\n",
       "<table border=\"1\" class=\"dataframe\">\n",
       "  <thead>\n",
       "    <tr style=\"text-align: right;\">\n",
       "      <th></th>\n",
       "      <th>data_year</th>\n",
       "      <th>population</th>\n",
       "      <th>total_agency_count</th>\n",
       "      <th>published_agency_count</th>\n",
       "      <th>active_agency_count</th>\n",
       "      <th>covered_agency_count</th>\n",
       "      <th>population_covered</th>\n",
       "      <th>agency_count_nibrs_submitting</th>\n",
       "      <th>agency_count_leoka_submitting</th>\n",
       "      <th>agency_count_pe_submitting</th>\n",
       "      <th>agency_count_srs_submitting</th>\n",
       "      <th>agency_count_asr_submitting</th>\n",
       "      <th>agency_count_hc_submitting</th>\n",
       "      <th>agency_count_supp_submitting</th>\n",
       "      <th>nibrs_population_covered</th>\n",
       "      <th>total_population</th>\n",
       "    </tr>\n",
       "  </thead>\n",
       "  <tbody>\n",
       "    <tr>\n",
       "      <th>0</th>\n",
       "      <td>2019</td>\n",
       "      <td>337556149</td>\n",
       "      <td>18671</td>\n",
       "      <td>14993</td>\n",
       "      <td>22021</td>\n",
       "      <td>16</td>\n",
       "      <td>18660</td>\n",
       "      <td>8536</td>\n",
       "      <td>8356</td>\n",
       "      <td>15004</td>\n",
       "      <td>7786</td>\n",
       "      <td>11788</td>\n",
       "      <td>15520</td>\n",
       "      <td>15643</td>\n",
       "      <td>146950904</td>\n",
       "      <td>337556149</td>\n",
       "    </tr>\n",
       "    <tr>\n",
       "      <th>1</th>\n",
       "      <td>2018</td>\n",
       "      <td>336536616</td>\n",
       "      <td>18560</td>\n",
       "      <td>15236</td>\n",
       "      <td>21896</td>\n",
       "      <td>39</td>\n",
       "      <td>18737</td>\n",
       "      <td>7777</td>\n",
       "      <td>7122</td>\n",
       "      <td>15247</td>\n",
       "      <td>8200</td>\n",
       "      <td>13057</td>\n",
       "      <td>16107</td>\n",
       "      <td>15615</td>\n",
       "      <td>129148182</td>\n",
       "      <td>336536616</td>\n",
       "    </tr>\n",
       "    <tr>\n",
       "      <th>2</th>\n",
       "      <td>2017</td>\n",
       "      <td>335231625</td>\n",
       "      <td>18448</td>\n",
       "      <td>16393</td>\n",
       "      <td>21764</td>\n",
       "      <td>29</td>\n",
       "      <td>51097</td>\n",
       "      <td>7148</td>\n",
       "      <td>6680</td>\n",
       "      <td>16399</td>\n",
       "      <td>9381</td>\n",
       "      <td>13684</td>\n",
       "      <td>16285</td>\n",
       "      <td>15578</td>\n",
       "      <td>109218573</td>\n",
       "      <td>335231625</td>\n",
       "    </tr>\n",
       "    <tr>\n",
       "      <th>3</th>\n",
       "      <td>2016</td>\n",
       "      <td>329242793</td>\n",
       "      <td>18466</td>\n",
       "      <td>16921</td>\n",
       "      <td>21625</td>\n",
       "      <td>28</td>\n",
       "      <td>111631</td>\n",
       "      <td>7083</td>\n",
       "      <td>6388</td>\n",
       "      <td>16927</td>\n",
       "      <td>9986</td>\n",
       "      <td>13661</td>\n",
       "      <td>15940</td>\n",
       "      <td>15785</td>\n",
       "      <td>105287171</td>\n",
       "      <td>329242793</td>\n",
       "    </tr>\n",
       "    <tr>\n",
       "      <th>4</th>\n",
       "      <td>2015</td>\n",
       "      <td>327511036</td>\n",
       "      <td>18435</td>\n",
       "      <td>16813</td>\n",
       "      <td>21551</td>\n",
       "      <td>20</td>\n",
       "      <td>40665</td>\n",
       "      <td>6823</td>\n",
       "      <td>6223</td>\n",
       "      <td>16815</td>\n",
       "      <td>10102</td>\n",
       "      <td>13434</td>\n",
       "      <td>15096</td>\n",
       "      <td>15655</td>\n",
       "      <td>99789318</td>\n",
       "      <td>327511036</td>\n",
       "    </tr>\n",
       "  </tbody>\n",
       "</table>\n",
       "</div>"
      ],
      "text/plain": [
       "   data_year  population  total_agency_count  published_agency_count  \\\n",
       "0       2019   337556149               18671                   14993   \n",
       "1       2018   336536616               18560                   15236   \n",
       "2       2017   335231625               18448                   16393   \n",
       "3       2016   329242793               18466                   16921   \n",
       "4       2015   327511036               18435                   16813   \n",
       "\n",
       "   active_agency_count  covered_agency_count  population_covered  \\\n",
       "0                22021                    16               18660   \n",
       "1                21896                    39               18737   \n",
       "2                21764                    29               51097   \n",
       "3                21625                    28              111631   \n",
       "4                21551                    20               40665   \n",
       "\n",
       "   agency_count_nibrs_submitting  agency_count_leoka_submitting  \\\n",
       "0                           8536                           8356   \n",
       "1                           7777                           7122   \n",
       "2                           7148                           6680   \n",
       "3                           7083                           6388   \n",
       "4                           6823                           6223   \n",
       "\n",
       "   agency_count_pe_submitting  agency_count_srs_submitting  \\\n",
       "0                       15004                         7786   \n",
       "1                       15247                         8200   \n",
       "2                       16399                         9381   \n",
       "3                       16927                         9986   \n",
       "4                       16815                        10102   \n",
       "\n",
       "   agency_count_asr_submitting  agency_count_hc_submitting  \\\n",
       "0                        11788                       15520   \n",
       "1                        13057                       16107   \n",
       "2                        13684                       16285   \n",
       "3                        13661                       15940   \n",
       "4                        13434                       15096   \n",
       "\n",
       "   agency_count_supp_submitting  nibrs_population_covered  total_population  \n",
       "0                         15643                 146950904         337556149  \n",
       "1                         15615                 129148182         336536616  \n",
       "2                         15578                 109218573         335231625  \n",
       "3                         15785                 105287171         329242793  \n",
       "4                         15655                  99789318         327511036  "
      ]
     },
     "execution_count": 5,
     "metadata": {},
     "output_type": "execute_result"
    }
   ],
   "source": [
    "fbi=list(req.values())\n",
    "fbi_data = {'data_year':[],\n",
    "        'population':[],\n",
    "        'total_agency_count' : [],\n",
    "        'published_agency_count' : [],\n",
    "        'active_agency_count' : [],\n",
    "        'covered_agency_count' : [],\n",
    "        'population_covered' : [],\n",
    "        'agency_count_nibrs_submitting' : [],\n",
    "        'agency_count_leoka_submitting' : [],\n",
    "        'agency_count_pe_submitting' : [],\n",
    "        'agency_count_srs_submitting' : [],\n",
    "        'agency_count_asr_submitting' : [],\n",
    "        'agency_count_hc_submitting' : [],\n",
    "        'agency_count_supp_submitting' : [],\n",
    "        'nibrs_population_covered' : [],\n",
    "        'total_population' : []}\n",
    "                                                       \n",
    "for i in fbi[0]:\n",
    "    fbi_data['data_year'].append(i['data_year'])\n",
    "    fbi_data['population'].append(i['population'])\n",
    "    fbi_data['total_agency_count'].append(i['total_agency_count'])\n",
    "    fbi_data['published_agency_count'].append(i['published_agency_count'])\n",
    "    fbi_data['active_agency_count'].append(i['active_agency_count'])\n",
    "    fbi_data['covered_agency_count'].append(i['covered_agency_count'])\n",
    "    fbi_data['population_covered'].append(i['population_covered'])\n",
    "    fbi_data['agency_count_nibrs_submitting'].append(i['agency_count_nibrs_submitting'])\n",
    "    fbi_data['agency_count_leoka_submitting'].append(i['agency_count_leoka_submitting'])\n",
    "    fbi_data['agency_count_pe_submitting'].append(i['agency_count_pe_submitting'])\n",
    "    fbi_data['agency_count_srs_submitting'].append(i['agency_count_srs_submitting'])\n",
    "    fbi_data['agency_count_asr_submitting'].append(i['agency_count_asr_submitting'])\n",
    "    fbi_data['agency_count_hc_submitting'].append(i['agency_count_hc_submitting'])\n",
    "    fbi_data['agency_count_supp_submitting'].append(i['agency_count_supp_submitting'])\n",
    "    fbi_data['nibrs_population_covered'].append(i['nibrs_population_covered'])\n",
    "    fbi_data['total_population'].append(i['total_population'])\n",
    "fbi_data_df = pd.DataFrame.from_dict(fbi_data)\n",
    "fbi_data_df.head()"
   ]
  },
  {
   "cell_type": "markdown",
   "id": "marine-footage",
   "metadata": {},
   "source": [
    "## 2 Hypothesis\n",
    "(1) Compared to last 2 decades of the 20th century (1980-2000), the count of population covered by the FBI\n",
    "increased by 20% in the first 2 decades of the 21st century (2000-2019)\n",
    "\n",
    "(2) Compared to the previous 5 years (2010 - 2014), the percentage of officers who got killed or assaulted increased\n",
    "in the last 5 years (2015-2019) due to the increased amount of the illegal weapons"
   ]
  },
  {
   "cell_type": "markdown",
   "id": "missing-jonathan",
   "metadata": {},
   "source": [
    "## Hypothesis 1 Analysis"
   ]
  },
  {
   "cell_type": "code",
   "execution_count": 6,
   "id": "northern-fleece",
   "metadata": {},
   "outputs": [],
   "source": [
    "# hypothesis 1 : Compared to last 2 decades of the 20th century (1980-2000), the count of population covered by the FBI\n",
    "#increased by 20% in the first 2 decades of the 21st century (2000-2019)\n",
    "\n",
    "#sum1_hyp1 = fbi_data_df[\"population\"].iloc[0] - fbi_data_df['population'].iloc[20]\n",
    "#sum2_hyp1 = fbi_data_df[\"population\"].iloc[19] - fbi_data_df['population'].iloc[40]\n",
    "\n",
    "hyp1_df = fbi_data_df[0:40]\n",
    "\n",
    "first_decade=fbi_data_df[0:19]\n",
    "first_decade_covered_population = first_decade[\"nibrs_population_covered\"].sum()\n",
    "first_decade_total_population = first_decade[\"population\"].sum()\n",
    "\n",
    "second_decade = fbi_data_df[20:40]\n",
    "\n",
    "second_decade_covered_population = second_decade[\"nibrs_population_covered\"].sum()\n",
    "second_decade_total_population = second_decade[\"population\"].sum()"
   ]
  },
  {
   "cell_type": "code",
   "execution_count": 7,
   "id": "close-trunk",
   "metadata": {},
   "outputs": [
    {
     "data": {
      "text/html": [
       "<div>\n",
       "<style scoped>\n",
       "    .dataframe tbody tr th:only-of-type {\n",
       "        vertical-align: middle;\n",
       "    }\n",
       "\n",
       "    .dataframe tbody tr th {\n",
       "        vertical-align: top;\n",
       "    }\n",
       "\n",
       "    .dataframe thead th {\n",
       "        text-align: right;\n",
       "    }\n",
       "</style>\n",
       "<table border=\"1\" class=\"dataframe\">\n",
       "  <thead>\n",
       "    <tr style=\"text-align: right;\">\n",
       "      <th></th>\n",
       "      <th>Covered population</th>\n",
       "      <th>Total population Increase</th>\n",
       "      <th>Covered percent</th>\n",
       "    </tr>\n",
       "  </thead>\n",
       "  <tbody>\n",
       "    <tr>\n",
       "      <th>1</th>\n",
       "      <td>213416681</td>\n",
       "      <td>5080687439</td>\n",
       "      <td>0.042005</td>\n",
       "    </tr>\n",
       "    <tr>\n",
       "      <th>2</th>\n",
       "      <td>1671895631</td>\n",
       "      <td>5975438067</td>\n",
       "      <td>0.279795</td>\n",
       "    </tr>\n",
       "  </tbody>\n",
       "</table>\n",
       "</div>"
      ],
      "text/plain": [
       "   Covered population  Total population Increase  Covered percent\n",
       "1           213416681                 5080687439         0.042005\n",
       "2          1671895631                 5975438067         0.279795"
      ]
     },
     "execution_count": 7,
     "metadata": {},
     "output_type": "execute_result"
    }
   ],
   "source": [
    "first_decade_percent = first_decade_covered_population/first_decade_total_population\n",
    "second_decade_percent = second_decade_covered_population/second_decade_total_population\n",
    "\n",
    "increase = first_decade_percent - second_decade_percent\n",
    "\n",
    "fbi_hyp1 = {\"Covered population\": [second_decade_covered_population,first_decade_covered_population] ,\n",
    "            \"Total population Increase\": [second_decade_total_population,first_decade_total_population],\n",
    "            \"Covered percent\": [second_decade_percent, first_decade_percent]}\n",
    "fbi_hyp1_df = pd.DataFrame(fbi_hyp1, index = [1,2])\n",
    "fbi_hyp1_df\n"
   ]
  },
  {
   "cell_type": "markdown",
   "id": "subjective-buffer",
   "metadata": {},
   "source": [
    "## Hypothesis1 - Analysis and Visualization 1\n",
    "Based on the bar chart below, the population covered by the NIBRS (National Incident-Based Reporting System) increased by 566.099% in the last 2 decades (2000-2019) compared to the previous 2 decades (1980-2000)."
   ]
  },
  {
   "cell_type": "code",
   "execution_count": 8,
   "id": "classical-homeless",
   "metadata": {},
   "outputs": [
    {
     "data": {
      "text/plain": [
       "566.0992738959648"
      ]
     },
     "execution_count": 8,
     "metadata": {},
     "output_type": "execute_result"
    }
   ],
   "source": [
    "#calculation the % change useing this formula: % increase = Increase ÷ Original Number × 100.\n",
    "increase = 0.279795 - 0.042005\n",
    "finalNum = (0.23779/0.042005)*100\n",
    "finalNum"
   ]
  },
  {
   "cell_type": "code",
   "execution_count": 9,
   "id": "alpine-policy",
   "metadata": {},
   "outputs": [
    {
     "data": {
      "image/png": "[encoded data removed]",
      "text/plain": [
       "<Figure size 432x288 with 1 Axes>"
      ]
     },
     "metadata": {
      "needs_background": "light"
     },
     "output_type": "display_data"
    }
   ],
   "source": [
    "import seaborn as sns\n",
    "labels = [\"1980-2000\", \"2000-2019\"]\n",
    "sns.barplot(x= labels, y=fbi_hyp1_df[\"Covered percent\"])\n",
    "plt.title(\"Nibrs Covered Poplutation in 1980-2000 vs 2000-2019\")\n",
    "plt.show()"
   ]
  },
  {
   "cell_type": "markdown",
   "id": "driven-bargain",
   "metadata": {},
   "source": [
    "## Hypothesis1 - Analysis and Visualization 2\n",
    "Based on the scatterplot below, we can see that up until the population reached 250 million, the nibrs (National Incident-Based Reporting System) was 0, and from that poin it started to steadily grow until the present days. During the last few years it grew very quickly."
   ]
  },
  {
   "cell_type": "code",
   "execution_count": 7,
   "id": "complete-letter",
   "metadata": {
    "scrolled": true
   },
   "outputs": [
    {
     "data": {
      "image/png": "[encoded data removed]",
      "text/plain": [
       "<Figure size 432x288 with 1 Axes>"
      ]
     },
     "metadata": {
      "needs_background": "light"
     },
     "output_type": "display_data"
    }
   ],
   "source": [
    "import seaborn as sns\n",
    "sns.scatterplot(x = hyp1_df[\"population\"], y = hyp1_df[\"nibrs_population_covered\"], hue = hyp1_df[\"nibrs_population_covered\"] )\n",
    "sns.lineplot(x = hyp1_df[\"population\"], y = hyp1_df[\"nibrs_population_covered\"], color = 'blue' )\n",
    "plt.title(\"Nibrs Covered Population Over the Last 4 Decades\")\n",
    "plt.show()"
   ]
  },
  {
   "cell_type": "markdown",
   "id": "israeli-dutch",
   "metadata": {},
   "source": [
    "## Hypothesis 2 - Analysis"
   ]
  },
  {
   "cell_type": "code",
   "execution_count": 10,
   "id": "killing-cache",
   "metadata": {},
   "outputs": [],
   "source": [
    "# hypothesis 2 : Compared to the previous 5 years (2010 - 2014), the percentage of officers who got killed\n",
    "#or assaulted increased in the last 5 years (2015-2019) due to the increased amount of the illegal weapons\n",
    "\n",
    "hyp2_df = fbi_data_df[0:10]\n",
    "\n",
    "first_five=fbi_data_df[0:5]\n",
    "second_five=fbi_data_df[5:10]\n",
    "\n",
    "sum1 = fbi_data_df[\"population\"].iloc[0] - fbi_data_df['population'].iloc[5]\n",
    "sum2 = fbi_data_df[\"population\"].iloc[5] - fbi_data_df['population'].iloc[10]\n",
    "\n",
    "#summing the agency_count_leoka_submitting column for each time segment\n",
    "first_leoka = np.average(first_five[\"agency_count_leoka_submitting\"])\n",
    "second_leoka = np.average(second_five[\"agency_count_leoka_submitting\"])\n",
    "\n",
    "#first_total = np.average(first_five[\"population\"])\n",
    "#second_total = np.average(second_five[\"population\"])\n",
    "\n",
    "first_percent_leoka = (first_leoka/sum1)*100\n",
    "second_percent_leoka = (second_leoka/sum2)*100\n",
    "\n",
    "\n",
    "fbi_hyp2 = {\"Leoka\": [first_leoka,second_leoka] ,\n",
    "            \"Total Population increase\": [sum1, sum2],\n",
    "            \"Leoka Percent\": [first_percent_leoka, second_percent_leoka]}\n",
    "fbi_hyp2_df = pd.DataFrame(fbi_hyp2, index = [1,2])\n",
    "\n",
    "#30.33 % increase in average leoka per population increase in last 5 years (2015-2019) \n",
    "#compared to previous 5 years (2010-2014)."
   ]
  },
  {
   "cell_type": "code",
   "execution_count": 11,
   "id": "perfect-discrimination",
   "metadata": {},
   "outputs": [
    {
     "data": {
      "text/html": [
       "<div>\n",
       "<style scoped>\n",
       "    .dataframe tbody tr th:only-of-type {\n",
       "        vertical-align: middle;\n",
       "    }\n",
       "\n",
       "    .dataframe tbody tr th {\n",
       "        vertical-align: top;\n",
       "    }\n",
       "\n",
       "    .dataframe thead th {\n",
       "        text-align: right;\n",
       "    }\n",
       "</style>\n",
       "<table border=\"1\" class=\"dataframe\">\n",
       "  <thead>\n",
       "    <tr style=\"text-align: right;\">\n",
       "      <th></th>\n",
       "      <th>Leoka</th>\n",
       "      <th>Total Population increase</th>\n",
       "      <th>Leoka Percent</th>\n",
       "    </tr>\n",
       "  </thead>\n",
       "  <tbody>\n",
       "    <tr>\n",
       "      <th>1</th>\n",
       "      <td>6953.8</td>\n",
       "      <td>12821050</td>\n",
       "      <td>0.054237</td>\n",
       "    </tr>\n",
       "    <tr>\n",
       "      <th>2</th>\n",
       "      <td>5148.4</td>\n",
       "      <td>12371716</td>\n",
       "      <td>0.041614</td>\n",
       "    </tr>\n",
       "  </tbody>\n",
       "</table>\n",
       "</div>"
      ],
      "text/plain": [
       "    Leoka  Total Population increase  Leoka Percent\n",
       "1  6953.8                   12821050       0.054237\n",
       "2  5148.4                   12371716       0.041614"
      ]
     },
     "execution_count": 11,
     "metadata": {},
     "output_type": "execute_result"
    }
   ],
   "source": [
    "fbi_hyp2_df"
   ]
  },
  {
   "cell_type": "markdown",
   "id": "absent-panel",
   "metadata": {},
   "source": [
    "## Hypothesis 2 - Visualization 1\n",
    "Based on the bar chart below, there was a 30.33% increase in leoka(Law Enforcement Officers Killed and Assaulted) cases per population in the last five years (2015-2019) compared to the previous 5 years (2010-2014)"
   ]
  },
  {
   "cell_type": "code",
   "execution_count": 12,
   "id": "constant-patient",
   "metadata": {},
   "outputs": [
    {
     "data": {
      "image/png": "[encoded data removed]",
      "text/plain": [
       "<Figure size 432x288 with 1 Axes>"
      ]
     },
     "metadata": {
      "needs_background": "light"
     },
     "output_type": "display_data"
    }
   ],
   "source": [
    "plt.bar(['2010-2014', '2015-2019'], [0.041614, 0.054237], label = \"plot\")\n",
    "plt.xlabel('5 years periods')\n",
    "plt.ylabel('Leoka')\n",
    "plt.title('Leoka Over Last 10 Years')\n",
    "plt.show()"
   ]
  },
  {
   "cell_type": "markdown",
   "id": "necessary-wings",
   "metadata": {},
   "source": [
    "## Hypothesis 2 - Visualization 2\n",
    "The scatterplot below displays the increase of leoka cases over the period of last 10 years."
   ]
  },
  {
   "cell_type": "code",
   "execution_count": 13,
   "id": "activated-moscow",
   "metadata": {},
   "outputs": [
    {
     "data": {
      "image/png": "[encoded data removed]",
      "text/plain": [
       "<Figure size 432x288 with 1 Axes>"
      ]
     },
     "metadata": {
      "needs_background": "light"
     },
     "output_type": "display_data"
    }
   ],
   "source": [
    "fig, ax = plt.subplots()\n",
    "ax.scatter(hyp2_df[\"population\"],hyp2_df[\"agency_count_leoka_submitting\"])\n",
    "ax.plot(hyp2_df[\"population\"],hyp2_df[\"agency_count_leoka_submitting\"], linestyle = 'solid')\n",
    "ax.set_xlabel(\"Total Population\")\n",
    "ax.set_ylabel(\"Leoka\")\n",
    "ax.set_title(\"Leoka vs Total Population Over Last 10 Years\")\n",
    "plt.show()\n"
   ]
  },
  {
   "cell_type": "code",
   "execution_count": null,
   "id": "functional-branch",
   "metadata": {},
   "outputs": [],
   "source": []
  }
 ],
 "metadata": {
  "kernelspec": {
   "display_name": "Python 3",
   "language": "python",
   "name": "python3"
  },
  "language_info": {
   "codemirror_mode": {
    "name": "ipython",
    "version": 3
   },
   "file_extension": ".py",
   "mimetype": "text/x-python",
   "name": "python",
   "nbconvert_exporter": "python",
   "pygments_lexer": "ipython3",
   "version": "3.8.8"
  }
 },
 "nbformat": 4,
 "nbformat_minor": 5
}
