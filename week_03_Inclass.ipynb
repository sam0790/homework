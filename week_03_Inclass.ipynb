{
 "cells": [
  {
   "cell_type": "code",
   "execution_count": 37,
   "id": "indie-deployment",
   "metadata": {},
   "outputs": [],
   "source": [
    "\n"
   ]
  },
  {
   "cell_type": "raw",
   "id": "subtle-brunswick",
   "metadata": {},
   "source": [
    "\n"
   ]
  },
  {
   "cell_type": "code",
   "execution_count": 38,
   "id": "interim-rochester",
   "metadata": {},
   "outputs": [],
   "source": [
    "def Group_numbers (a,b):\n",
    "    \n",
    "    x = a+b\n",
    "    y = a-b\n",
    "    z = a*b\n",
    "    \n",
    "    if (x == 0):\n",
    "        x = \"zero\"\n",
    "    if (y == 0):\n",
    "        y = \"zero\"\n",
    "    if (z == 0):\n",
    "        z = \"zero\"\n",
    "    \n",
    "    print(\"A + B\" + \" = \" + str(x))\n",
    "    print(\"A - B\" + \" = \" + str(y))\n",
    "    print(\"A * B\" + \" = \" + str(z))\n"
   ]
  },
  {
   "cell_type": "code",
   "execution_count": 39,
   "id": "thrown-brass",
   "metadata": {},
   "outputs": [
    {
     "name": "stdout",
     "output_type": "stream",
     "text": [
      "A + B = 8\n",
      "A - B = -2\n",
      "A * B = 15\n",
      "A + B = 6\n",
      "A - B = zero\n",
      "A * B = 9\n"
     ]
    }
   ],
   "source": [
    "Group_numbers (3,5)\n",
    "Group_numbers (3,3)"
   ]
  },
  {
   "cell_type": "code",
   "execution_count": null,
   "id": "light-driving",
   "metadata": {},
   "outputs": [],
   "source": []
  }
 ],
 "metadata": {
  "kernelspec": {
   "display_name": "Python 3",
   "language": "python",
   "name": "python3"
  },
  "language_info": {
   "codemirror_mode": {
    "name": "ipython",
    "version": 3
   },
   "file_extension": ".py",
   "mimetype": "text/x-python",
   "name": "python",
   "nbconvert_exporter": "python",
   "pygments_lexer": "ipython3",
   "version": "3.8.8"
  }
 },
 "nbformat": 4,
 "nbformat_minor": 5
}
