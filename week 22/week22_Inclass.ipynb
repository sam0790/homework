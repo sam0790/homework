{
 "cells": [
  {
   "cell_type": "markdown",
   "id": "operational-edwards",
   "metadata": {},
   "source": [
    "### 1. Use Splinter and/or Beautiful Soup to scrape https://www.dndbeyond.com/classes, and pull out all class names. Store these in a dataframe.\n"
   ]
  },
  {
   "cell_type": "code",
   "execution_count": 2,
   "id": "boring-probability",
   "metadata": {},
   "outputs": [],
   "source": [
    "from bs4 import BeautifulSoup as bs\n",
    "import requests\n",
    "\n",
    "url = 'http://books.toscrape.com/'"
   ]
  },
  {
   "cell_type": "code",
   "execution_count": 3,
   "id": "described-numbers",
   "metadata": {},
   "outputs": [
    {
     "data": {
      "text/plain": [
       "<Response [200]>"
      ]
     },
     "execution_count": 3,
     "metadata": {},
     "output_type": "execute_result"
    }
   ],
   "source": [
    "response = requests.get(url)\n",
    "response"
   ]
  },
  {
   "cell_type": "code",
   "execution_count": 4,
   "id": "spectacular-secret",
   "metadata": {},
   "outputs": [
    {
     "name": "stderr",
     "output_type": "stream",
     "text": [
      "\n",
      "\n",
      "====== WebDriver manager ======\n",
      "Current google-chrome version is 92.0.4515\n",
      "Get LATEST driver version for 92.0.4515\n",
      "There is no [win32] chromedriver for browser 92.0.4515 in cache\n",
      "Get LATEST driver version for 92.0.4515\n",
      "Trying to download new driver from https://chromedriver.storage.googleapis.com/92.0.4515.107/chromedriver_win32.zip\n",
      "Driver has been saved in cache [C:\\Users\\mspat\\.wdm\\drivers\\chromedriver\\win32\\92.0.4515.107]\n"
     ]
    }
   ],
   "source": [
    "from splinter import Browser\n",
    "from webdriver_manager.chrome import ChromeDriverManager\n",
    "\n",
    "executable_path = {'executable_path':ChromeDriverManager().install()}\n",
    "browser = Browser('chrome',**executable_path, headless=False)\n",
    "\n",
    "url = 'https://www.dndbeyond.com/classes'\n",
    "\n",
    "browser.visit(url)"
   ]
  },
  {
   "cell_type": "code",
   "execution_count": 5,
   "id": "funded-prefix",
   "metadata": {},
   "outputs": [
    {
     "data": {
      "text/plain": [
       "[<h3 class=\"listing-card__title\">\n",
       "                         Barbarian\n",
       "                     </h3>,\n",
       " <h3 class=\"listing-card__title\">\n",
       "                         Bard\n",
       "                     </h3>,\n",
       " <h3 class=\"listing-card__title\">\n",
       "                         Cleric\n",
       "                     </h3>,\n",
       " <h3 class=\"listing-card__title\">\n",
       "                         Druid\n",
       "                     </h3>,\n",
       " <h3 class=\"listing-card__title\">\n",
       "                         Fighter\n",
       "                     </h3>,\n",
       " <h3 class=\"listing-card__title\">\n",
       "                         Monk\n",
       "                     </h3>,\n",
       " <h3 class=\"listing-card__title\">\n",
       "                         Paladin\n",
       "                     </h3>,\n",
       " <h3 class=\"listing-card__title\">\n",
       "                         Ranger\n",
       "                     </h3>,\n",
       " <h3 class=\"listing-card__title\">\n",
       "                         Rogue\n",
       "                     </h3>,\n",
       " <h3 class=\"listing-card__title\">\n",
       "                         Sorcerer\n",
       "                     </h3>,\n",
       " <h3 class=\"listing-card__title\">\n",
       "                         Warlock\n",
       "                     </h3>,\n",
       " <h3 class=\"listing-card__title\">\n",
       "                         Wizard\n",
       "                     </h3>,\n",
       " <h3 class=\"listing-card__title\">\n",
       "                         Artificer\n",
       "                     </h3>,\n",
       " <h3 class=\"listing-card__title\">\n",
       "                         Blood Hunter\n",
       "                     </h3>]"
      ]
     },
     "execution_count": 5,
     "metadata": {},
     "output_type": "execute_result"
    }
   ],
   "source": [
    "soup = bs(browser.html, 'html.parser')\n",
    "all_h3 = soup.find_all('h3',class_='listing-card__title')\n",
    "all_h3"
   ]
  },
  {
   "cell_type": "code",
   "execution_count": 6,
   "id": "hearing-necessity",
   "metadata": {},
   "outputs": [
    {
     "name": "stdout",
     "output_type": "stream",
     "text": [
      "{'class': ['Barbarian', 'Bard', 'Cleric', 'Druid', 'Fighter', 'Monk', 'Paladin', 'Ranger', 'Rogue', 'Sorcerer', 'Warlock', 'Wizard', 'Artificer', 'Blood Hunter']}\n"
     ]
    }
   ],
   "source": [
    "char_dict = {'class':[]}\n",
    "\n",
    "for cls in all_h3:\n",
    "    dnd = cls.text.strip()\n",
    "    char_dict['class'].append(dnd)\n",
    "\n",
    "print(char_dict)"
   ]
  },
  {
   "cell_type": "code",
   "execution_count": 7,
   "id": "seventh-moisture",
   "metadata": {},
   "outputs": [
    {
     "data": {
      "text/html": [
       "<div>\n",
       "<style scoped>\n",
       "    .dataframe tbody tr th:only-of-type {\n",
       "        vertical-align: middle;\n",
       "    }\n",
       "\n",
       "    .dataframe tbody tr th {\n",
       "        vertical-align: top;\n",
       "    }\n",
       "\n",
       "    .dataframe thead th {\n",
       "        text-align: right;\n",
       "    }\n",
       "</style>\n",
       "<table border=\"1\" class=\"dataframe\">\n",
       "  <thead>\n",
       "    <tr style=\"text-align: right;\">\n",
       "      <th></th>\n",
       "      <th>class</th>\n",
       "    </tr>\n",
       "  </thead>\n",
       "  <tbody>\n",
       "    <tr>\n",
       "      <th>0</th>\n",
       "      <td>Barbarian</td>\n",
       "    </tr>\n",
       "    <tr>\n",
       "      <th>1</th>\n",
       "      <td>Bard</td>\n",
       "    </tr>\n",
       "    <tr>\n",
       "      <th>2</th>\n",
       "      <td>Cleric</td>\n",
       "    </tr>\n",
       "    <tr>\n",
       "      <th>3</th>\n",
       "      <td>Druid</td>\n",
       "    </tr>\n",
       "    <tr>\n",
       "      <th>4</th>\n",
       "      <td>Fighter</td>\n",
       "    </tr>\n",
       "    <tr>\n",
       "      <th>5</th>\n",
       "      <td>Monk</td>\n",
       "    </tr>\n",
       "    <tr>\n",
       "      <th>6</th>\n",
       "      <td>Paladin</td>\n",
       "    </tr>\n",
       "    <tr>\n",
       "      <th>7</th>\n",
       "      <td>Ranger</td>\n",
       "    </tr>\n",
       "    <tr>\n",
       "      <th>8</th>\n",
       "      <td>Rogue</td>\n",
       "    </tr>\n",
       "    <tr>\n",
       "      <th>9</th>\n",
       "      <td>Sorcerer</td>\n",
       "    </tr>\n",
       "    <tr>\n",
       "      <th>10</th>\n",
       "      <td>Warlock</td>\n",
       "    </tr>\n",
       "    <tr>\n",
       "      <th>11</th>\n",
       "      <td>Wizard</td>\n",
       "    </tr>\n",
       "    <tr>\n",
       "      <th>12</th>\n",
       "      <td>Artificer</td>\n",
       "    </tr>\n",
       "    <tr>\n",
       "      <th>13</th>\n",
       "      <td>Blood Hunter</td>\n",
       "    </tr>\n",
       "  </tbody>\n",
       "</table>\n",
       "</div>"
      ],
      "text/plain": [
       "           class\n",
       "0      Barbarian\n",
       "1           Bard\n",
       "2         Cleric\n",
       "3          Druid\n",
       "4        Fighter\n",
       "5           Monk\n",
       "6        Paladin\n",
       "7         Ranger\n",
       "8          Rogue\n",
       "9       Sorcerer\n",
       "10       Warlock\n",
       "11        Wizard\n",
       "12     Artificer\n",
       "13  Blood Hunter"
      ]
     },
     "execution_count": 7,
     "metadata": {},
     "output_type": "execute_result"
    }
   ],
   "source": [
    "import pandas as pd\n",
    "\n",
    "df = pd.DataFrame(char_dict)\n",
    "\n",
    "df"
   ]
  },
  {
   "cell_type": "code",
   "execution_count": null,
   "id": "white-vessel",
   "metadata": {},
   "outputs": [],
   "source": []
  },
  {
   "cell_type": "code",
   "execution_count": null,
   "id": "spare-transition",
   "metadata": {},
   "outputs": [],
   "source": []
  },
  {
   "cell_type": "code",
   "execution_count": null,
   "id": "silver-welcome",
   "metadata": {},
   "outputs": [],
   "source": []
  },
  {
   "cell_type": "markdown",
   "id": "animal-nature",
   "metadata": {},
   "source": [
    "### 2. Now, alter 1 to click on each class name to go to the more detailed page, and pull out the first paragraph about each class. Store these in a dataframe. Your dataframe should have two columns."
   ]
  },
  {
   "cell_type": "code",
   "execution_count": 25,
   "id": "martial-seeking",
   "metadata": {},
   "outputs": [
    {
     "name": "stdout",
     "output_type": "stream",
     "text": [
      "['Barbarian', 'Bard', 'Cleric', 'Druid', 'Fighter', 'Monk', 'Paladin', 'Ranger', 'Rogue', 'Sorcerer', 'Warlock', 'Wizard', 'Artificer', 'Blood Hunter']\n",
      "['Barbarian', 'Bard', 'Cleric', 'Druid', 'Fighter', 'Monk', 'Paladin', 'Ranger', 'Rogue', 'Sorcerer', 'Warlock', 'Wizard', 'Artificer', 'Blood-Hunter']\n"
     ]
    }
   ],
   "source": [
    "dnd_list = []\n",
    "\n",
    "for cls in all_h3:\n",
    "    dnd = cls.text.strip()\n",
    "    dnd_list.append(dnd)\n",
    "\n",
    "print(dnd_list)\n",
    "\n",
    "dnd_list[13]='Blood-Hunter'\n",
    "\n",
    "print(dnd_list)"
   ]
  },
  {
   "cell_type": "code",
   "execution_count": 27,
   "id": "recovered-multimedia",
   "metadata": {},
   "outputs": [
    {
     "name": "stdout",
     "output_type": "stream",
     "text": [
      "['https://www.dndbeyond.com/classes/Barbarian', 'https://www.dndbeyond.com/classes/Bard', 'https://www.dndbeyond.com/classes/Cleric', 'https://www.dndbeyond.com/classes/Druid', 'https://www.dndbeyond.com/classes/Fighter', 'https://www.dndbeyond.com/classes/Monk', 'https://www.dndbeyond.com/classes/Paladin', 'https://www.dndbeyond.com/classes/Ranger', 'https://www.dndbeyond.com/classes/Rogue', 'https://www.dndbeyond.com/classes/Sorcerer', 'https://www.dndbeyond.com/classes/Warlock', 'https://www.dndbeyond.com/classes/Wizard', 'https://www.dndbeyond.com/classes/Artificer', 'https://www.dndbeyond.com/classes/Blood-Hunter']\n"
     ]
    }
   ],
   "source": [
    "url_list = []\n",
    "\n",
    "for i in dnd_list:\n",
    "    url = f'https://www.dndbeyond.com/classes/{i}'\n",
    "    url_list.append(url)\n",
    "\n",
    "print(url_list)\n",
    "\n"
   ]
  },
  {
   "cell_type": "code",
   "execution_count": 34,
   "id": "frank-packet",
   "metadata": {},
   "outputs": [
    {
     "name": "stdout",
     "output_type": "stream",
     "text": [
      "[[], [], [], [], [], [], [], [], [], [], [], [], [], []]\n"
     ]
    }
   ],
   "source": [
    "para_list = []\n",
    "\n",
    "for i in url_list:\n",
    "    \n",
    "    browser.visit(i)\n",
    "    soup = bs(browser.html, 'html.parser')\n",
    "    first_para = soup.find_all('p',class_='Core-Styles_Core-Body')\n",
    "    para_list.append(first_para)\n",
    "\n",
    "print(para_list)\n",
    "    "
   ]
  },
  {
   "cell_type": "code",
   "execution_count": 39,
   "id": "sought-antenna",
   "metadata": {},
   "outputs": [
    {
     "name": "stdout",
     "output_type": "stream",
     "text": [
      "<html lang=\"en\"><head> <meta charset=\"utf-8\"/> <meta content=\"width=device-width, initial-scale=1\" name=\"viewport\"/> <title>Access to this page has been denied.</title> <link href=\"https://fonts.googleapis.com/css?family=Open+Sans:300\" rel=\"stylesheet\"/> <style> html, body { margin: 0; padding: 0; font-family: 'Open Sans', sans-serif; color: #000; } a { color: #c5c5c5; text-decoration: none; } .container { align-items: center; display: flex; flex: 1; justify-content: space-between; flex-direction: column; height: 100%; } .container > div { width: 100%; display: flex; justify-content: center; } .container > div > div { display: flex; width: 80%; } .customer-logo-wrapper { padding-top: 2rem; flex-grow: 0; background-color: #fff; visibility: visible; } .customer-logo { border-bottom: 1px solid #000; } .customer-logo > img { padding-bottom: 1rem; max-height: 50px; max-width: 100%; } .page-title-wrapper { flex-grow: 2; } .page-title { flex-direction: column-reverse; } .content-wrapper { flex-grow: 5; } .content { flex-direction: column; } .page-footer-wrapper { align-items: center; flex-grow: 0.2; background-color: #000; color: #c5c5c5; font-size: 70%; } @media (min-width: 768px) { html, body { height: 100%; } } </style> <!-- Custom CSS --> <link href=\"https://media-waterdeep.cursecdn.com/attachments/px.css\" rel=\"stylesheet\"/> <script src=\"/cNj12cyX/captcha/captcha.js?a=&amp;u=d2dfcd50-f18c-11eb-8c19-85c5a44f2d09&amp;v=c5c99c70-f189-11eb-b4fd-992ec9360488&amp;m=0\"></script><style type=\"text/css\">.px-loader-wrapper {    display: flex;}@keyframes loadingEffect {    0% {        background-position: 0;    }    100% {        background-position: 60vw;    }}.px-inner-loading-area {    width: 310px;    height: 30px;    animation-name: loadingEffect;    animation-duration: 1.2s;    animation-iteration-count: infinite;    animation-timing-function: ease;    animation-fill-mode: forwards;    background: linear-gradient(to right, #F6F6F6 8%, #F0F0F0 18%, #F6F6F6 33%);}.px-loading-area {    width: 310px;    height: 30px;    margin: undefined;    ;}</style><script src=\"/cNj12cyX/init.js\"></script></head> <body> <section class=\"container\"> <div class=\"customer-logo-wrapper\"> <div class=\"customer-logo\"> <img alt=\"Logo\" src=\"https://www.dndbeyond.com/content/skins/Waterdeep/images/dnd-beyond-logo-black.svg\"/> </div> </div> <div class=\"page-title-wrapper\"> <div class=\"page-title\"> <h1>Please verify you are a human</h1> </div> </div> <div class=\"content-wrapper\"> <div class=\"content\"> <div id=\"px-captcha\"><div class=\"px-loader-wrapper\" id=\"px-loader\"><div class=\"px-loading-area\"><div class=\"px-inner-loading-area\"></div></div></div></div> <p> Access to this page has been denied because we believe you are using automation tools to browse the website. </p> <p> This may happen as a result of the following: </p> <ul> <li> Javascript is disabled or blocked by an extension (ad blockers for example) </li> <li> Your browser does not support cookies </li> </ul> <p> Please make sure that Javascript and cookies are enabled on your browser and that you are not blocking them from loading. </p> <p> Reference ID: #d2dfcd50-f18c-11eb-8c19-85c5a44f2d09 </p> </div> </div> <div class=\"page-footer-wrapper\"> <div class=\"page-footer\"> <p> Powered by <a href=\"https://www.perimeterx.com/whywasiblocked\">PerimeterX</a> , Inc. </p> </div> </div> </section> <!-- Px --> <script> window._pxAppId = 'PXcNj12cyX'; window._pxJsClientSrc = '/cNj12cyX/init.js'; window._pxFirstPartyEnabled = true; window._pxVid = 'c5c99c70-f189-11eb-b4fd-992ec9360488'; window._pxUuid = 'd2dfcd50-f18c-11eb-8c19-85c5a44f2d09'; window._pxHostUrl = '/cNj12cyX/xhr'; </script> <script> var s = document.createElement('script'); s.src = '/cNj12cyX/captcha/captcha.js?a=&u=d2dfcd50-f18c-11eb-8c19-85c5a44f2d09&v=c5c99c70-f189-11eb-b4fd-992ec9360488&m=0'; var p = document.getElementsByTagName('head')[0]; p.insertBefore(s, null); if (true ){s.onerror = function () {s = document.createElement('script'); var suffixIndex = '/cNj12cyX/captcha/captcha.js?a=&u=d2dfcd50-f18c-11eb-8c19-85c5a44f2d09&v=c5c99c70-f189-11eb-b4fd-992ec9360488&m=0'.indexOf('/captcha.js'); var temperedBlockScript = '/cNj12cyX/captcha/captcha.js?a=&u=d2dfcd50-f18c-11eb-8c19-85c5a44f2d09&v=c5c99c70-f189-11eb-b4fd-992ec9360488&m=0'.substring(suffixIndex); s.src = '//captcha.px-cdn.net/PXcNj12cyX' + temperedBlockScript; p.parentNode.insertBefore(s, p);};}</script> <!-- Custom Script --> </body></html>\n"
     ]
    }
   ],
   "source": [
    "browser.visit(url_list[3])\n",
    "soup = bs(browser.html, 'html.parser')\n",
    "first_para = soup.find_all('p',class_='Core-Styles_Core-Body')\n",
    "\n",
    "print(soup)"
   ]
  },
  {
   "cell_type": "code",
   "execution_count": null,
   "id": "consistent-influence",
   "metadata": {},
   "outputs": [],
   "source": []
  }
 ],
 "metadata": {
  "kernelspec": {
   "display_name": "Python 3",
   "language": "python",
   "name": "python3"
  },
  "language_info": {
   "codemirror_mode": {
    "name": "ipython",
    "version": 3
   },
   "file_extension": ".py",
   "mimetype": "text/x-python",
   "name": "python",
   "nbconvert_exporter": "python",
   "pygments_lexer": "ipython3",
   "version": "3.8.8"
  }
 },
 "nbformat": 4,
 "nbformat_minor": 5
}
