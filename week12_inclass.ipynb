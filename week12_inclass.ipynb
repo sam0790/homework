{
 "cells": [
  {
   "cell_type": "code",
   "execution_count": 10,
   "id": "synthetic-feelings",
   "metadata": {},
   "outputs": [],
   "source": [
    "import numpy as np\n",
    "import pandas as pd\n"
   ]
  },
  {
   "cell_type": "markdown",
   "id": "continent-pakistan",
   "metadata": {},
   "source": [
    "# 1. Write a Python program to rearrange positive and negative numbers in a\n",
    "given list using Lambda and map()\n",
    "Sample output:\n",
    "original_list = [-1,2,-3,4,-5,6,-7,8,-9,10,-11,12]\n",
    "resulting_list = [2,4,6,8,10,12,-11,-9,-7,-5,-3,-1]"
   ]
  },
  {
   "cell_type": "code",
   "execution_count": 8,
   "id": "express-annual",
   "metadata": {},
   "outputs": [
    {
     "data": {
      "text/plain": [
       "[2, 4, 6, 8, 10, 12, -11, -9, -7, -5, -3, -1]"
      ]
     },
     "execution_count": 8,
     "metadata": {},
     "output_type": "execute_result"
    }
   ],
   "source": [
    "def rearrange(x):\n",
    "    \n",
    "    list_neg=[x for x in list if x < 0 ]\n",
    "    neg = sorted(list_neg)\n",
    "    \n",
    "    list_pos=[x for x in list if x >= 0]\n",
    "    \n",
    "    return list_pos + neg\n",
    "\n",
    "\n",
    "list = [-1,2,-3,4,-5,6,-7,8,-9,10,-11,12]\n",
    "\n",
    "rearrange(list)    "
   ]
  },
  {
   "cell_type": "code",
   "execution_count": 32,
   "id": "automated-giant",
   "metadata": {},
   "outputs": [
    {
     "data": {
      "text/plain": [
       "[2, 4, 6, 8, 10, 12, -11, -9, -7, -5, -3, -1]"
      ]
     },
     "execution_count": 32,
     "metadata": {},
     "output_type": "execute_result"
    }
   ],
   "source": [
    "orig_list = [-1,2,-3,4,-5,6,-7,8,-9,10,-11,12]\n",
    "\n",
    "def rearaange(x):\n",
    "\n",
    "    list_p = lambda x: [x for x in orig_list if x >= 0]\n",
    "    p_list = pos_list(orig_list)\n",
    "\n",
    "    list_n = lambda x: [x for x in orig_list if x < 0]\n",
    "    n_list = sorted(neg_list(orig_list))\n",
    "\n",
    "    return p_list + n_list\n",
    "\n",
    "rearrange(orig_list)"
   ]
  },
  {
   "cell_type": "markdown",
   "id": "colored-indianapolis",
   "metadata": {},
   "source": [
    "# 2. Create a new dataframe using week_11/temperatures/temperature.csv file\n",
    "from last class. It should have the datetime column and one of the cities.\n",
    "Create a new boolean column called is_freezing that indicates if the\n",
    "temperature is at or below freezing. Use a lambda to create this column. Is\n",
    "there a better way to do this than with a lambda?\n"
   ]
  },
  {
   "cell_type": "code",
   "execution_count": 39,
   "id": "mechanical-nowhere",
   "metadata": {},
   "outputs": [
    {
     "data": {
      "text/html": [
       "<div>\n",
       "<style scoped>\n",
       "    .dataframe tbody tr th:only-of-type {\n",
       "        vertical-align: middle;\n",
       "    }\n",
       "\n",
       "    .dataframe tbody tr th {\n",
       "        vertical-align: top;\n",
       "    }\n",
       "\n",
       "    .dataframe thead th {\n",
       "        text-align: right;\n",
       "    }\n",
       "</style>\n",
       "<table border=\"1\" class=\"dataframe\">\n",
       "  <thead>\n",
       "    <tr style=\"text-align: right;\">\n",
       "      <th></th>\n",
       "      <th>datetime</th>\n",
       "      <th>Vancouver</th>\n",
       "    </tr>\n",
       "  </thead>\n",
       "  <tbody>\n",
       "    <tr>\n",
       "      <th>0</th>\n",
       "      <td>2012-10-01 12:00:00</td>\n",
       "      <td>NaN</td>\n",
       "    </tr>\n",
       "    <tr>\n",
       "      <th>1</th>\n",
       "      <td>2012-10-01 13:00:00</td>\n",
       "      <td>284.630000</td>\n",
       "    </tr>\n",
       "    <tr>\n",
       "      <th>2</th>\n",
       "      <td>2012-10-01 14:00:00</td>\n",
       "      <td>284.629041</td>\n",
       "    </tr>\n",
       "    <tr>\n",
       "      <th>3</th>\n",
       "      <td>2012-10-01 15:00:00</td>\n",
       "      <td>284.626998</td>\n",
       "    </tr>\n",
       "    <tr>\n",
       "      <th>4</th>\n",
       "      <td>2012-10-01 16:00:00</td>\n",
       "      <td>284.624955</td>\n",
       "    </tr>\n",
       "  </tbody>\n",
       "</table>\n",
       "</div>"
      ],
      "text/plain": [
       "              datetime   Vancouver\n",
       "0  2012-10-01 12:00:00         NaN\n",
       "1  2012-10-01 13:00:00  284.630000\n",
       "2  2012-10-01 14:00:00  284.629041\n",
       "3  2012-10-01 15:00:00  284.626998\n",
       "4  2012-10-01 16:00:00  284.624955"
      ]
     },
     "execution_count": 39,
     "metadata": {},
     "output_type": "execute_result"
    }
   ],
   "source": [
    "temp_df = pd.read_csv('temperature.csv')\n",
    "#temp_df\n",
    "temp_new = temp_df[['datetime','Vancouver']]\n",
    "temp_new.head()"
   ]
  },
  {
   "cell_type": "code",
   "execution_count": 44,
   "id": "rising-advancement",
   "metadata": {},
   "outputs": [
    {
     "data": {
      "text/html": [
       "<div>\n",
       "<style scoped>\n",
       "    .dataframe tbody tr th:only-of-type {\n",
       "        vertical-align: middle;\n",
       "    }\n",
       "\n",
       "    .dataframe tbody tr th {\n",
       "        vertical-align: top;\n",
       "    }\n",
       "\n",
       "    .dataframe thead th {\n",
       "        text-align: right;\n",
       "    }\n",
       "</style>\n",
       "<table border=\"1\" class=\"dataframe\">\n",
       "  <thead>\n",
       "    <tr style=\"text-align: right;\">\n",
       "      <th></th>\n",
       "      <th>datetime</th>\n",
       "      <th>Vancouver</th>\n",
       "      <th>is_freezing</th>\n",
       "    </tr>\n",
       "  </thead>\n",
       "  <tbody>\n",
       "    <tr>\n",
       "      <th>0</th>\n",
       "      <td>2012-10-01 12:00:00</td>\n",
       "      <td>NaN</td>\n",
       "      <td>False</td>\n",
       "    </tr>\n",
       "    <tr>\n",
       "      <th>1</th>\n",
       "      <td>2012-10-01 13:00:00</td>\n",
       "      <td>284.630000</td>\n",
       "      <td>False</td>\n",
       "    </tr>\n",
       "    <tr>\n",
       "      <th>2</th>\n",
       "      <td>2012-10-01 14:00:00</td>\n",
       "      <td>284.629041</td>\n",
       "      <td>False</td>\n",
       "    </tr>\n",
       "    <tr>\n",
       "      <th>3</th>\n",
       "      <td>2012-10-01 15:00:00</td>\n",
       "      <td>284.626998</td>\n",
       "      <td>False</td>\n",
       "    </tr>\n",
       "    <tr>\n",
       "      <th>4</th>\n",
       "      <td>2012-10-01 16:00:00</td>\n",
       "      <td>284.624955</td>\n",
       "      <td>False</td>\n",
       "    </tr>\n",
       "    <tr>\n",
       "      <th>...</th>\n",
       "      <td>...</td>\n",
       "      <td>...</td>\n",
       "      <td>...</td>\n",
       "    </tr>\n",
       "    <tr>\n",
       "      <th>45248</th>\n",
       "      <td>2017-11-29 20:00:00</td>\n",
       "      <td>NaN</td>\n",
       "      <td>False</td>\n",
       "    </tr>\n",
       "    <tr>\n",
       "      <th>45249</th>\n",
       "      <td>2017-11-29 21:00:00</td>\n",
       "      <td>NaN</td>\n",
       "      <td>False</td>\n",
       "    </tr>\n",
       "    <tr>\n",
       "      <th>45250</th>\n",
       "      <td>2017-11-29 22:00:00</td>\n",
       "      <td>NaN</td>\n",
       "      <td>False</td>\n",
       "    </tr>\n",
       "    <tr>\n",
       "      <th>45251</th>\n",
       "      <td>2017-11-29 23:00:00</td>\n",
       "      <td>NaN</td>\n",
       "      <td>False</td>\n",
       "    </tr>\n",
       "    <tr>\n",
       "      <th>45252</th>\n",
       "      <td>2017-11-30 00:00:00</td>\n",
       "      <td>NaN</td>\n",
       "      <td>False</td>\n",
       "    </tr>\n",
       "  </tbody>\n",
       "</table>\n",
       "<p>45253 rows × 3 columns</p>\n",
       "</div>"
      ],
      "text/plain": [
       "                  datetime   Vancouver  is_freezing\n",
       "0      2012-10-01 12:00:00         NaN        False\n",
       "1      2012-10-01 13:00:00  284.630000        False\n",
       "2      2012-10-01 14:00:00  284.629041        False\n",
       "3      2012-10-01 15:00:00  284.626998        False\n",
       "4      2012-10-01 16:00:00  284.624955        False\n",
       "...                    ...         ...          ...\n",
       "45248  2017-11-29 20:00:00         NaN        False\n",
       "45249  2017-11-29 21:00:00         NaN        False\n",
       "45250  2017-11-29 22:00:00         NaN        False\n",
       "45251  2017-11-29 23:00:00         NaN        False\n",
       "45252  2017-11-30 00:00:00         NaN        False\n",
       "\n",
       "[45253 rows x 3 columns]"
      ]
     },
     "execution_count": 44,
     "metadata": {},
     "output_type": "execute_result"
    }
   ],
   "source": [
    "temp_mod = temp_new.assign(is_freezing = lambda x: (x['Vancouver'] <= 273.15))\n",
    "temp_mod"
   ]
  },
  {
   "cell_type": "code",
   "execution_count": null,
   "id": "valuable-transparency",
   "metadata": {},
   "outputs": [],
   "source": []
  }
 ],
 "metadata": {
  "kernelspec": {
   "display_name": "Python 3",
   "language": "python",
   "name": "python3"
  },
  "language_info": {
   "codemirror_mode": {
    "name": "ipython",
    "version": 3
   },
   "file_extension": ".py",
   "mimetype": "text/x-python",
   "name": "python",
   "nbconvert_exporter": "python",
   "pygments_lexer": "ipython3",
   "version": "3.8.8"
  }
 },
 "nbformat": 4,
 "nbformat_minor": 5
}
