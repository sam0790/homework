{
 "cells": [
  {
   "cell_type": "code",
   "execution_count": 112,
   "id": "regular-temple",
   "metadata": {},
   "outputs": [],
   "source": [
    "import numpy as np\n",
    "import pandas as pd\n",
    "import matplotlib.pyplot as plt\n",
    "from scipy.stats import norm\n",
    "\n",
    "\n",
    "import math \n",
    "import statistics\n",
    "from scipy import stats"
   ]
  },
  {
   "cell_type": "code",
   "execution_count": 113,
   "id": "funny-works",
   "metadata": {},
   "outputs": [
    {
     "data": {
      "text/html": [
       "<div>\n",
       "<style scoped>\n",
       "    .dataframe tbody tr th:only-of-type {\n",
       "        vertical-align: middle;\n",
       "    }\n",
       "\n",
       "    .dataframe tbody tr th {\n",
       "        vertical-align: top;\n",
       "    }\n",
       "\n",
       "    .dataframe thead th {\n",
       "        text-align: right;\n",
       "    }\n",
       "</style>\n",
       "<table border=\"1\" class=\"dataframe\">\n",
       "  <thead>\n",
       "    <tr style=\"text-align: right;\">\n",
       "      <th></th>\n",
       "      <th>id</th>\n",
       "      <th>name</th>\n",
       "      <th>host_id</th>\n",
       "      <th>host_name</th>\n",
       "      <th>neighbourhood_group</th>\n",
       "      <th>neighbourhood</th>\n",
       "      <th>latitude</th>\n",
       "      <th>longitude</th>\n",
       "      <th>room_type</th>\n",
       "      <th>price</th>\n",
       "      <th>minimum_nights</th>\n",
       "      <th>number_of_reviews</th>\n",
       "      <th>last_review</th>\n",
       "      <th>reviews_per_month</th>\n",
       "      <th>calculated_host_listings_count</th>\n",
       "      <th>availability_365</th>\n",
       "    </tr>\n",
       "  </thead>\n",
       "  <tbody>\n",
       "    <tr>\n",
       "      <th>0</th>\n",
       "      <td>36666</td>\n",
       "      <td>Mo's Cozy Casa w/ veranda &amp; access to dock</td>\n",
       "      <td>157752</td>\n",
       "      <td>Monique</td>\n",
       "      <td>Belize</td>\n",
       "      <td>Belize Islands</td>\n",
       "      <td>17.74786</td>\n",
       "      <td>-88.02398</td>\n",
       "      <td>Entire home/apt</td>\n",
       "      <td>141</td>\n",
       "      <td>3</td>\n",
       "      <td>250</td>\n",
       "      <td>2/23/2021</td>\n",
       "      <td>2.00</td>\n",
       "      <td>5</td>\n",
       "      <td>225</td>\n",
       "    </tr>\n",
       "    <tr>\n",
       "      <th>1</th>\n",
       "      <td>36690</td>\n",
       "      <td>Mo's Cozy Cabana w/ comfy veranda &amp; access to ...</td>\n",
       "      <td>157752</td>\n",
       "      <td>Monique</td>\n",
       "      <td>Belize</td>\n",
       "      <td>Belize Islands</td>\n",
       "      <td>17.74832</td>\n",
       "      <td>-88.02474</td>\n",
       "      <td>Entire home/apt</td>\n",
       "      <td>71</td>\n",
       "      <td>3</td>\n",
       "      <td>316</td>\n",
       "      <td>2/19/2021</td>\n",
       "      <td>2.46</td>\n",
       "      <td>5</td>\n",
       "      <td>164</td>\n",
       "    </tr>\n",
       "    <tr>\n",
       "      <th>2</th>\n",
       "      <td>108932</td>\n",
       "      <td>Purple House eco solar  w/ ocean &amp; wildlife views</td>\n",
       "      <td>563377</td>\n",
       "      <td>Michael</td>\n",
       "      <td>Belize</td>\n",
       "      <td>Belize Islands</td>\n",
       "      <td>17.73221</td>\n",
       "      <td>-88.03824</td>\n",
       "      <td>Entire home/apt</td>\n",
       "      <td>191</td>\n",
       "      <td>2</td>\n",
       "      <td>30</td>\n",
       "      <td>3/14/2020</td>\n",
       "      <td>0.78</td>\n",
       "      <td>1</td>\n",
       "      <td>364</td>\n",
       "    </tr>\n",
       "    <tr>\n",
       "      <th>3</th>\n",
       "      <td>110483</td>\n",
       "      <td>Michelo's fuchsia suite</td>\n",
       "      <td>567809</td>\n",
       "      <td>Michel</td>\n",
       "      <td>Stann Creek</td>\n",
       "      <td>Stann Creek Mainland</td>\n",
       "      <td>16.52114</td>\n",
       "      <td>-88.36926</td>\n",
       "      <td>Hotel room</td>\n",
       "      <td>121</td>\n",
       "      <td>1</td>\n",
       "      <td>27</td>\n",
       "      <td>2/24/2020</td>\n",
       "      <td>0.29</td>\n",
       "      <td>3</td>\n",
       "      <td>331</td>\n",
       "    </tr>\n",
       "    <tr>\n",
       "      <th>4</th>\n",
       "      <td>120115</td>\n",
       "      <td>Seaside Villas Second Floor Unit  #4</td>\n",
       "      <td>604999</td>\n",
       "      <td>Bobbi</td>\n",
       "      <td>Belize</td>\n",
       "      <td>Belize Islands</td>\n",
       "      <td>17.74166</td>\n",
       "      <td>-88.02395</td>\n",
       "      <td>Entire home/apt</td>\n",
       "      <td>343</td>\n",
       "      <td>1</td>\n",
       "      <td>30</td>\n",
       "      <td>3/18/2020</td>\n",
       "      <td>0.64</td>\n",
       "      <td>22</td>\n",
       "      <td>203</td>\n",
       "    </tr>\n",
       "  </tbody>\n",
       "</table>\n",
       "</div>"
      ],
      "text/plain": [
       "       id                                               name  host_id  \\\n",
       "0   36666         Mo's Cozy Casa w/ veranda & access to dock   157752   \n",
       "1   36690  Mo's Cozy Cabana w/ comfy veranda & access to ...   157752   \n",
       "2  108932  Purple House eco solar  w/ ocean & wildlife views   563377   \n",
       "3  110483                            Michelo's fuchsia suite   567809   \n",
       "4  120115               Seaside Villas Second Floor Unit  #4   604999   \n",
       "\n",
       "  host_name neighbourhood_group         neighbourhood  latitude  longitude  \\\n",
       "0   Monique              Belize        Belize Islands  17.74786  -88.02398   \n",
       "1   Monique              Belize        Belize Islands  17.74832  -88.02474   \n",
       "2   Michael              Belize        Belize Islands  17.73221  -88.03824   \n",
       "3    Michel         Stann Creek  Stann Creek Mainland  16.52114  -88.36926   \n",
       "4     Bobbi              Belize        Belize Islands  17.74166  -88.02395   \n",
       "\n",
       "         room_type  price  minimum_nights  number_of_reviews last_review  \\\n",
       "0  Entire home/apt    141               3                250   2/23/2021   \n",
       "1  Entire home/apt     71               3                316   2/19/2021   \n",
       "2  Entire home/apt    191               2                 30   3/14/2020   \n",
       "3       Hotel room    121               1                 27   2/24/2020   \n",
       "4  Entire home/apt    343               1                 30   3/18/2020   \n",
       "\n",
       "   reviews_per_month  calculated_host_listings_count  availability_365  \n",
       "0               2.00                               5               225  \n",
       "1               2.46                               5               164  \n",
       "2               0.78                               1               364  \n",
       "3               0.29                               3               331  \n",
       "4               0.64                              22               203  "
      ]
     },
     "execution_count": 113,
     "metadata": {},
     "output_type": "execute_result"
    }
   ],
   "source": [
    "belize_listings_file = \"belize_airbnb_listings.csv\"\n",
    "belize_df = pd.read_csv(belize_listings_file)\n",
    "belize_df.head()"
   ]
  },
  {
   "cell_type": "markdown",
   "id": "great-beast",
   "metadata": {},
   "source": [
    "## 1.\tCreate two histograms in a subplot (vertical or horizontal is fine) that show the distribution of reviews_per_month and number_of_reviews in Belize Airbnb data \n",
    "a.\tHow do you choose your bin size?\n"
   ]
  },
  {
   "cell_type": "code",
   "execution_count": 66,
   "id": "focused-senior",
   "metadata": {},
   "outputs": [
    {
     "data": {
      "image/png": "[encoded data removed]",
      "text/plain": [
       "<Figure size 432x288 with 2 Axes>"
      ]
     },
     "metadata": {
      "needs_background": "light"
     },
     "output_type": "display_data"
    }
   ],
   "source": [
    "plt.subplot(1,2,1)\n",
    "plt.hist(belize_df['reviews_per_month'],bins=10)\n",
    "plt.title('Reviews per month')\n",
    "\n",
    "plt.subplot(1,2,2)\n",
    "plt.hist(belize_df['number_of_reviews'],bins=10)\n",
    "plt.title('Number of reviews')\n",
    "plt.show()"
   ]
  },
  {
   "cell_type": "markdown",
   "id": "shared-federation",
   "metadata": {},
   "source": [
    "## 2.\tCreate a box and whisker plot for availability_365. What does this show you?"
   ]
  },
  {
   "cell_type": "code",
   "execution_count": 9,
   "id": "comprehensive-aside",
   "metadata": {},
   "outputs": [
    {
     "data": {
      "image/png": "[encoded data removed]",
      "text/plain": [
       "<Figure size 432x288 with 1 Axes>"
      ]
     },
     "metadata": {
      "needs_background": "light"
     },
     "output_type": "display_data"
    }
   ],
   "source": [
    "plt.boxplot(belize_df['availability_365'])\n",
    "plt.show()"
   ]
  },
  {
   "cell_type": "code",
   "execution_count": 24,
   "id": "cloudy-privacy",
   "metadata": {},
   "outputs": [],
   "source": [
    "#As per the boxplot above we can clearly see that data is left skewed or negatively skewed. \n",
    "#which means you have more data towards higher\n",
    "#number of the data in other words towards right side. \n",
    "\n",
    "#The third quartile is almost close to highest value for the data.\n",
    "#that means 75% of the data towards highest value. \n",
    "\n",
    "#There are lower limit outliers but no upper limit outliers in the dataset.\n",
    "\n"
   ]
  },
  {
   "cell_type": "markdown",
   "id": "convinced-eugene",
   "metadata": {},
   "source": [
    "## 3.\tWhat is the probability that the price for an Airbnb is under $50.\n",
    "a.\tWhat do you notice about these records? Hint: look at the other columns.\n",
    "\n",
    "b.\tWhat distribution does this data most closely fit?\n"
   ]
  },
  {
   "cell_type": "code",
   "execution_count": 126,
   "id": "signal-annex",
   "metadata": {},
   "outputs": [
    {
     "name": "stdout",
     "output_type": "stream",
     "text": [
      "357.1022889842632\n"
     ]
    },
    {
     "data": {
      "image/png": "[encoded data removed]",
      "text/plain": [
       "<Figure size 432x288 with 2 Axes>"
      ]
     },
     "metadata": {
      "needs_background": "light"
     },
     "output_type": "display_data"
    },
    {
     "name": "stdout",
     "output_type": "stream",
     "text": [
      "5.4584560148440975\n",
      "0.8355119220837\n",
      "3.235949674311032e-06\n",
      "False    0.982475\n",
      "True     0.017525\n",
      "Name: price, dtype: float64\n"
     ]
    }
   ],
   "source": [
    "print(np.mean(belize_df['price']))\n",
    "#data = belize_df['price']\n",
    "#binwidth = 50\n",
    "plt.subplot(1,2,1)\n",
    "plt.hist(belize_df['price'])\n",
    "\n",
    "\n",
    "plt.subplot(1,2,2)\n",
    "log_price = np.log(belize_df['price'])\n",
    "log_price.hist()#bins=range(min(data), max(data) + binwidth, binwidth))\n",
    "\n",
    "plt.show()\n",
    "\n",
    "\n",
    "log_mean = np.mean(log_price)\n",
    "log_std = np.std(log_price)\n",
    "print(log_mean)\n",
    "print(log_std)\n",
    "\n",
    "print(norm.cdf(1.69,log_mean,log_std))\n",
    "\n",
    "less_50 = belize_df['price']<50\n",
    "print(less_50.value_counts(True))\n",
    "\n",
    "# The probability that the price for an Airbnb is under $50 is 0.017525.\n",
    "\n",
    "# a this data records is right skewed.\n",
    "\n",
    "# b this data most closely fit to normal distribution."
   ]
  },
  {
   "cell_type": "markdown",
   "id": "dried-outline",
   "metadata": {},
   "source": [
    "## 4.\tCalculate the sample variance and standard deviation for all the numerical columns in the same output. \n",
    "a.\tWhy sample variance and not population variance?\n",
    "\n",
    "b.\tWhat is your takeaway for each metric?\n",
    "\n",
    "c.\tWhat are the scales of measurement for each of these values? \n"
   ]
  },
  {
   "cell_type": "code",
   "execution_count": 60,
   "id": "prospective-stock",
   "metadata": {
    "scrolled": true
   },
   "outputs": [
    {
     "name": "stdout",
     "output_type": "stream",
     "text": [
      "Standard Deviation Calculation -----------------\n",
      "id                                1.288964e+07\n",
      "host_id                           1.018001e+08\n",
      "latitude                          5.374396e-01\n",
      "longitude                         3.838760e-01\n",
      "price                             5.631248e+02\n",
      "minimum_nights                    5.669843e+00\n",
      "number_of_reviews                 3.032777e+01\n",
      "reviews_per_month                 6.621542e-01\n",
      "calculated_host_listings_count    5.171118e+01\n",
      "availability_365                  1.206176e+02\n",
      "dtype: float64\n",
      "Variance Calculation ----------------------------\n",
      "id                                1.661428e+14\n",
      "host_id                           1.036327e+16\n",
      "latitude                          2.888413e-01\n",
      "longitude                         1.473608e-01\n",
      "price                             3.171096e+05\n",
      "minimum_nights                    3.214712e+01\n",
      "number_of_reviews                 9.197735e+02\n",
      "reviews_per_month                 4.384482e-01\n",
      "calculated_host_listings_count    2.674046e+03\n",
      "availability_365                  1.454861e+04\n",
      "dtype: float64\n"
     ]
    }
   ],
   "source": [
    "print(\"Standard Deviation Calculation -----------------\")\n",
    "print(belize_df.std(numeric_only=True))\n",
    "\n",
    "print(\"Variance Calculation ----------------------------\")\n",
    "print(belize_df.var(numeric_only=True))"
   ]
  },
  {
   "cell_type": "code",
   "execution_count": null,
   "id": "durable-equation",
   "metadata": {},
   "outputs": [],
   "source": [
    "#a \n",
    "#because our data is not for all population, it is only for this sample size.\n",
    "\n",
    "#b\n",
    "#\n",
    "\n",
    "#c \n",
    "#These all numbers are represented in scientific e notation. which means  1.288964e+07 is 12889640 number whereas \n",
    "#5.374396e-01 is 0.5374396. so number either +/- after e value represent exponent value.\n",
    "\n"
   ]
  },
  {
   "cell_type": "markdown",
   "id": "worldwide-contribution",
   "metadata": {},
   "source": [
    "## 5.\tWhat percent of Airbnb listings in Belize are available 360 days a year or more?\n",
    "a.\t360 days or less?\n",
    "\n",
    "b.\tWhat distribution does this data most closely fit?\n"
   ]
  },
  {
   "cell_type": "code",
   "execution_count": 138,
   "id": "reflected-entity",
   "metadata": {},
   "outputs": [
    {
     "data": {
      "image/png": "[encoded data removed]",
      "text/plain": [
       "<Figure size 432x288 with 1 Axes>"
      ]
     },
     "metadata": {
      "needs_background": "light"
     },
     "output_type": "display_data"
    },
    {
     "name": "stdout",
     "output_type": "stream",
     "text": [
      "False    0.604793\n",
      "True     0.395207\n",
      "Name: availability_365, dtype: float64\n",
      "True     0.615522\n",
      "False    0.384478\n",
      "Name: availability_365, dtype: float64\n"
     ]
    }
   ],
   "source": [
    "plt.hist(belize_df['availability_365'],bins=10)\n",
    "plt.show()\n",
    "\n",
    "np.mean(belize_df['availability_365'])\n",
    "np.median(belize_df['availability_365'])\n",
    "\n",
    "more_360 = belize_df['availability_365']>= 360\n",
    "print(more_360.value_counts(True))\n",
    "\n",
    "less_360 = belize_df['availability_365']<=360\n",
    "print(less_360.value_counts(True))\n",
    "\n",
    "\n",
    "# So 0.395207 or 39.52% Airbnb listings in Belize are available 360 days a year or more\n",
    "\n",
    "#a 0.384478 or 38.44% Airbnb listings in Belize are available 360 days or less\n",
    "\n",
    "#c the distribution for this data is left skewed normal distribution."
   ]
  },
  {
   "cell_type": "markdown",
   "id": "presidential-limitation",
   "metadata": {},
   "source": [
    "## 6.\tWhat minimum night count are 75% of Airnbnb listing in Belize greater than?"
   ]
  },
  {
   "cell_type": "code",
   "execution_count": 161,
   "id": "optical-testimony",
   "metadata": {},
   "outputs": [
    {
     "data": {
      "text/plain": [
       "3.6129279982462403"
      ]
     },
     "execution_count": 161,
     "metadata": {},
     "output_type": "execute_result"
    }
   ],
   "source": [
    "night = belize_df['minimum_nights']\n",
    "night\n",
    "\n",
    "mean1 = np.mean(night)\n",
    "median1 = np.median(night)\n",
    "std1 = np.std(night)\n",
    "\n",
    "norm.ppf(.75,mean1,median1)"
   ]
  },
  {
   "cell_type": "code",
   "execution_count": null,
   "id": "narrow-package",
   "metadata": {},
   "outputs": [],
   "source": [
    "# so 3.61 night count are 75% of Airbnb listing in belize greater than."
   ]
  }
 ],
 "metadata": {
  "kernelspec": {
   "display_name": "Python 3",
   "language": "python",
   "name": "python3"
  },
  "language_info": {
   "codemirror_mode": {
    "name": "ipython",
    "version": 3
   },
   "file_extension": ".py",
   "mimetype": "text/x-python",
   "name": "python",
   "nbconvert_exporter": "python",
   "pygments_lexer": "ipython3",
   "version": "3.8.8"
  }
 },
 "nbformat": 4,
 "nbformat_minor": 5
}
